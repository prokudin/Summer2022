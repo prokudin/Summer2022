{
  "nbformat": 4,
  "nbformat_minor": 0,
  "metadata": {
    "colab": {
      "name": "Problem1.ipynb",
      "provenance": [],
      "authorship_tag": "ABX9TyO9Y1UjXSi3R2b0NaRV4/xu",
      "include_colab_link": true
    },
    "kernelspec": {
      "name": "python3",
      "display_name": "Python 3"
    },
    "language_info": {
      "name": "python"
    }
  },
  "cells": [
    {
      "cell_type": "markdown",
      "metadata": {
        "id": "view-in-github",
        "colab_type": "text"
      },
      "source": [
        "<a href=\"https://colab.research.google.com/github/prokudin/Summer2022/blob/main/Problem1.ipynb\" target=\"_parent\"><img src=\"https://colab.research.google.com/assets/colab-badge.svg\" alt=\"Open In Colab\"/></a>"
      ]
    },
    {
      "cell_type": "code",
      "execution_count": null,
      "metadata": {
        "id": "oHTr2G1m3_c0"
      },
      "outputs": [],
      "source": [
        ""
      ]
    },
    {
      "cell_type": "markdown",
      "source": [
        "Problem Set due Jun 17, 2022 01:30 CEST Problem 1\n",
        "\n",
        "0.0/10.0 points (graded) \n",
        "Assume s is a string of lower case characters.\n",
        "Write a program that counts up the number of vowels contained in the string s. Valid vowels are: 'a', 'e', 'i', 'o', and 'u'. \n",
        "\n",
        "For example, if s = 'azcbobobegghakl', your program should print:\n",
        "Number of vowels: 5"
      ],
      "metadata": {
        "id": "1gcDa6kf4B6k"
      }
    },
    {
      "cell_type": "code",
      "source": [
        "s = 'asdbed'"
      ],
      "metadata": {
        "id": "9ynYcY1D4J6c"
      },
      "execution_count": 1,
      "outputs": []
    },
    {
      "cell_type": "code",
      "source": [
        "vowels =  'aeiou'\n",
        "\n",
        "numberv = 0\n",
        "\n",
        "for element in s:\n",
        "  for vowel in vowels:\n",
        "    if element == vowel:\n",
        "      numberv+=1\n",
        "\n",
        "print(\"Number of vowels: \",numberv)  "
      ],
      "metadata": {
        "colab": {
          "base_uri": "https://localhost:8080/"
        },
        "id": "7X3Kr3Jh4TOF",
        "outputId": "dde7dd2a-fac4-46e0-8b1f-4668d8be0b51"
      },
      "execution_count": 2,
      "outputs": [
        {
          "output_type": "stream",
          "name": "stdout",
          "text": [
            "Number of vowels:  2\n"
          ]
        }
      ]
    },
    {
      "cell_type": "markdown",
      "source": [
        "Let us be more creative now"
      ],
      "metadata": {
        "id": "6v57mMaM4WcW"
      }
    },
    {
      "cell_type": "code",
      "source": [
        "s = input(\"Print string : \")#'aazcbobobegghakl'\n",
        "vowels =  'aeiou'\n",
        "\n",
        "numberv = 0\n",
        "\n",
        "for element in s:\n",
        "  for vowel in vowels:\n",
        "    if element == vowel:\n",
        "      numberv+=1\n",
        "\n",
        "#print(\"String: \",s)\n",
        "print(\"Number of vowels: \",numberv)     "
      ],
      "metadata": {
        "colab": {
          "base_uri": "https://localhost:8080/"
        },
        "id": "F6muvWNS4Tt_",
        "outputId": "73f5d279-193d-4ddd-c763-96f24d820d53"
      },
      "execution_count": 3,
      "outputs": [
        {
          "output_type": "stream",
          "name": "stdout",
          "text": [
            "Print string : fjgcugdghcjchv\n",
            "Number of vowels:  1\n"
          ]
        }
      ]
    },
    {
      "cell_type": "code",
      "source": [
        ""
      ],
      "metadata": {
        "id": "n16VNq2V4Y8J"
      },
      "execution_count": null,
      "outputs": []
    }
  ]
}