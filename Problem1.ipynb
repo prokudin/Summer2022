{
  "nbformat": 4,
  "nbformat_minor": 0,
  "metadata": {
    "colab": {
      "name": "Problem1.ipynb",
      "provenance": [],
      "authorship_tag": "ABX9TyPDlLbaQNDCQkalFcYyTH1m",
      "include_colab_link": true
    },
    "kernelspec": {
      "name": "python3",
      "display_name": "Python 3"
    },
    "language_info": {
      "name": "python"
    }
  },
  "cells": [
    {
      "cell_type": "markdown",
      "metadata": {
        "id": "view-in-github",
        "colab_type": "text"
      },
      "source": [
        "<a href=\"https://colab.research.google.com/github/prokudin/Summer2022/blob/main/Problem1.ipynb\" target=\"_parent\"><img src=\"https://colab.research.google.com/assets/colab-badge.svg\" alt=\"Open In Colab\"/></a>"
      ]
    },
    {
      "cell_type": "code",
      "execution_count": null,
      "metadata": {
        "id": "oHTr2G1m3_c0"
      },
      "outputs": [],
      "source": [
        ""
      ]
    },
    {
      "cell_type": "markdown",
      "source": [
        "Problem Set due Jun 17, 2022 01:30 CEST Problem 1\n",
        "\n",
        "0.0/10.0 points (graded) \n",
        "Assume s is a string of lower case characters.\n",
        "Write a program that counts up the number of vowels contained in the string s. Valid vowels are: 'a', 'e', 'i', 'o', and 'u'. \n",
        "\n",
        "For example, if s = 'azcbobobegghakl', your program should print:\n",
        "Number of vowels: 5"
      ],
      "metadata": {
        "id": "1gcDa6kf4B6k"
      }
    },
    {
      "cell_type": "code",
      "source": [
        "s = 'asdbed'"
      ],
      "metadata": {
        "id": "9ynYcY1D4J6c"
      },
      "execution_count": 1,
      "outputs": []
    },
    {
      "cell_type": "code",
      "source": [
        "vowels =  'aeiou'\n",
        "\n",
        "numberv = 0\n",
        "\n",
        "for letter in s:\n",
        "  for vowel in vowels:\n",
        "    if letter == vowel:\n",
        "      numberv+=1\n",
        "\n",
        "print(\"Number of vowels: \",numberv)  "
      ],
      "metadata": {
        "colab": {
          "base_uri": "https://localhost:8080/"
        },
        "id": "7X3Kr3Jh4TOF",
        "outputId": "6fafa3d2-57f4-4e4c-e756-63322405a379"
      },
      "execution_count": 4,
      "outputs": [
        {
          "output_type": "stream",
          "name": "stdout",
          "text": [
            "Number of vowels:  1\n"
          ]
        }
      ]
    },
    {
      "cell_type": "markdown",
      "source": [
        "Let us be more creative now"
      ],
      "metadata": {
        "id": "6v57mMaM4WcW"
      }
    },
    {
      "cell_type": "code",
      "source": [
        "s = input(\"Print string : \")#'aazcbobobegghakl'\n",
        "vowels =  'aeiou'\n",
        "\n",
        "numberv = 0\n",
        "\n",
        "for letter in s:\n",
        "  for vowel in vowels:\n",
        "    if letter == vowel:\n",
        "      numberv+=1\n",
        "\n",
        "#print(\"String: \",s)\n",
        "print(\"Number of vowels: \",numberv)     "
      ],
      "metadata": {
        "colab": {
          "base_uri": "https://localhost:8080/"
        },
        "id": "F6muvWNS4Tt_",
        "outputId": "0c2a0d9f-cc20-42bf-d096-043d88a9a5d2"
      },
      "execution_count": 5,
      "outputs": [
        {
          "output_type": "stream",
          "name": "stdout",
          "text": [
            "Print string : gcfiygcfcxikhfc ouyfkhc\n",
            "Number of vowels:  4\n"
          ]
        }
      ]
    },
    {
      "cell_type": "code",
      "source": [
        ""
      ],
      "metadata": {
        "id": "n16VNq2V4Y8J"
      },
      "execution_count": null,
      "outputs": []
    }
  ]
}