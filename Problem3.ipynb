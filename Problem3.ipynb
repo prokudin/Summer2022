{
  "nbformat": 4,
  "nbformat_minor": 0,
  "metadata": {
    "colab": {
      "name": "Problem3.ipynb",
      "provenance": [],
      "authorship_tag": "ABX9TyO4TR48n/I9mXJ2g8KzTRF+",
      "include_colab_link": true
    },
    "kernelspec": {
      "name": "python3",
      "display_name": "Python 3"
    },
    "language_info": {
      "name": "python"
    }
  },
  "cells": [
    {
      "cell_type": "markdown",
      "metadata": {
        "id": "view-in-github",
        "colab_type": "text"
      },
      "source": [
        "<a href=\"https://colab.research.google.com/github/prokudin/Summer2022/blob/main/Problem3.ipynb\" target=\"_parent\"><img src=\"https://colab.research.google.com/assets/colab-badge.svg\" alt=\"Open In Colab\"/></a>"
      ]
    },
    {
      "cell_type": "code",
      "execution_count": null,
      "metadata": {
        "id": "41dSyAxLpKQ7"
      },
      "outputs": [],
      "source": [
        ""
      ]
    },
    {
      "cell_type": "markdown",
      "source": [
        "Problem Set due Jun 17, 2022 01:30 CEST\n",
        "Problem 3\n",
        "\n",
        "0.0/15.0 points (graded)\n",
        "Assume s is a string of lower case characters.\n",
        "\n",
        "Write a program that prints the longest substring of s in which the letters occur in alphabetical order. For example, if s = 'azcbobobegghakl', then your program should print\n",
        "\n",
        "Longest substring in alphabetical order is: beggh\n",
        "\n",
        "In the case of ties, print the first substring. For example, if s = 'abcbcd', then your program should print\n",
        "\n",
        "Longest substring in alphabetical order is: abc\n",
        "\n",
        "Note: This problem may be challenging. We encourage you to work smart. If you've spent more than a few hours on this problem, we suggest that you move on to a different part of the course. If you have time, come back to this problem after you've had a break and cleared your head."
      ],
      "metadata": {
        "id": "u35jfNmGpNIM"
      }
    },
    {
      "cell_type": "code",
      "source": [
        "#s = 'azcbobobegghakl'\n",
        "#s = 'abcbcd'\n",
        "# this one finds strictly alhabetical order!\n",
        "s = 'azcbobobegghakl'\n",
        "\n",
        "import string\n",
        "alphabet = string.ascii_lowercase\n",
        "\n",
        "alphabet_substrings = []\n",
        "found_substrings = []\n",
        "\n",
        "#create substrings from alphabet\n",
        "for i in range(len(alphabet)):\n",
        "  for j in range(len(alphabet)):\n",
        "    if alphabet[i:i+j] != '' and alphabet[i:i+j] not in alphabet_substrings: # avoid empty substring\n",
        "      alphabet_substrings.append(alphabet[i:i+j])\n",
        "\n",
        "# find substrings and store them\n",
        "for substring in alphabet_substrings:\n",
        "  if substring in s:\n",
        "    found_substrings.append(substring)\n",
        "\n",
        "longest = 0\n",
        "for substring in found_substrings:\n",
        "  if len(substring) > longest:\n",
        "    longest = len(substring)\n",
        "    longest_substring = substring\n",
        "\n",
        "print('Longest substring in alphabetical order is: ',longest_substring)"
      ],
      "metadata": {
        "colab": {
          "base_uri": "https://localhost:8080/"
        },
        "id": "CXyOw_YhpSR9",
        "outputId": "602a7d05-1bd1-4c1b-d294-46f1e82b7215"
      },
      "execution_count": 16,
      "outputs": [
        {
          "output_type": "stream",
          "name": "stdout",
          "text": [
            "Longest substring in alphabetical order is:  gh\n"
          ]
        }
      ]
    },
    {
      "cell_type": "code",
      "source": [
        "alphabet_substrings"
      ],
      "metadata": {
        "colab": {
          "base_uri": "https://localhost:8080/"
        },
        "id": "ksNgpS5264Qj",
        "outputId": "749d177d-de18-45ae-a83c-b6ec894202b8"
      },
      "execution_count": 14,
      "outputs": [
        {
          "output_type": "execute_result",
          "data": {
            "text/plain": [
              "['a',\n",
              " 'ab',\n",
              " 'abc',\n",
              " 'abcd',\n",
              " 'abcde',\n",
              " 'abcdef',\n",
              " 'abcdefg',\n",
              " 'abcdefgh',\n",
              " 'abcdefghi',\n",
              " 'abcdefghij',\n",
              " 'abcdefghijk',\n",
              " 'abcdefghijkl',\n",
              " 'abcdefghijklm',\n",
              " 'abcdefghijklmn',\n",
              " 'abcdefghijklmno',\n",
              " 'abcdefghijklmnop',\n",
              " 'abcdefghijklmnopq',\n",
              " 'abcdefghijklmnopqr',\n",
              " 'abcdefghijklmnopqrs',\n",
              " 'abcdefghijklmnopqrst',\n",
              " 'abcdefghijklmnopqrstu',\n",
              " 'abcdefghijklmnopqrstuv',\n",
              " 'abcdefghijklmnopqrstuvw',\n",
              " 'abcdefghijklmnopqrstuvwx',\n",
              " 'abcdefghijklmnopqrstuvwxy',\n",
              " 'b',\n",
              " 'bc',\n",
              " 'bcd',\n",
              " 'bcde',\n",
              " 'bcdef',\n",
              " 'bcdefg',\n",
              " 'bcdefgh',\n",
              " 'bcdefghi',\n",
              " 'bcdefghij',\n",
              " 'bcdefghijk',\n",
              " 'bcdefghijkl',\n",
              " 'bcdefghijklm',\n",
              " 'bcdefghijklmn',\n",
              " 'bcdefghijklmno',\n",
              " 'bcdefghijklmnop',\n",
              " 'bcdefghijklmnopq',\n",
              " 'bcdefghijklmnopqr',\n",
              " 'bcdefghijklmnopqrs',\n",
              " 'bcdefghijklmnopqrst',\n",
              " 'bcdefghijklmnopqrstu',\n",
              " 'bcdefghijklmnopqrstuv',\n",
              " 'bcdefghijklmnopqrstuvw',\n",
              " 'bcdefghijklmnopqrstuvwx',\n",
              " 'bcdefghijklmnopqrstuvwxy',\n",
              " 'bcdefghijklmnopqrstuvwxyz',\n",
              " 'c',\n",
              " 'cd',\n",
              " 'cde',\n",
              " 'cdef',\n",
              " 'cdefg',\n",
              " 'cdefgh',\n",
              " 'cdefghi',\n",
              " 'cdefghij',\n",
              " 'cdefghijk',\n",
              " 'cdefghijkl',\n",
              " 'cdefghijklm',\n",
              " 'cdefghijklmn',\n",
              " 'cdefghijklmno',\n",
              " 'cdefghijklmnop',\n",
              " 'cdefghijklmnopq',\n",
              " 'cdefghijklmnopqr',\n",
              " 'cdefghijklmnopqrs',\n",
              " 'cdefghijklmnopqrst',\n",
              " 'cdefghijklmnopqrstu',\n",
              " 'cdefghijklmnopqrstuv',\n",
              " 'cdefghijklmnopqrstuvw',\n",
              " 'cdefghijklmnopqrstuvwx',\n",
              " 'cdefghijklmnopqrstuvwxy',\n",
              " 'cdefghijklmnopqrstuvwxyz',\n",
              " 'd',\n",
              " 'de',\n",
              " 'def',\n",
              " 'defg',\n",
              " 'defgh',\n",
              " 'defghi',\n",
              " 'defghij',\n",
              " 'defghijk',\n",
              " 'defghijkl',\n",
              " 'defghijklm',\n",
              " 'defghijklmn',\n",
              " 'defghijklmno',\n",
              " 'defghijklmnop',\n",
              " 'defghijklmnopq',\n",
              " 'defghijklmnopqr',\n",
              " 'defghijklmnopqrs',\n",
              " 'defghijklmnopqrst',\n",
              " 'defghijklmnopqrstu',\n",
              " 'defghijklmnopqrstuv',\n",
              " 'defghijklmnopqrstuvw',\n",
              " 'defghijklmnopqrstuvwx',\n",
              " 'defghijklmnopqrstuvwxy',\n",
              " 'defghijklmnopqrstuvwxyz',\n",
              " 'e',\n",
              " 'ef',\n",
              " 'efg',\n",
              " 'efgh',\n",
              " 'efghi',\n",
              " 'efghij',\n",
              " 'efghijk',\n",
              " 'efghijkl',\n",
              " 'efghijklm',\n",
              " 'efghijklmn',\n",
              " 'efghijklmno',\n",
              " 'efghijklmnop',\n",
              " 'efghijklmnopq',\n",
              " 'efghijklmnopqr',\n",
              " 'efghijklmnopqrs',\n",
              " 'efghijklmnopqrst',\n",
              " 'efghijklmnopqrstu',\n",
              " 'efghijklmnopqrstuv',\n",
              " 'efghijklmnopqrstuvw',\n",
              " 'efghijklmnopqrstuvwx',\n",
              " 'efghijklmnopqrstuvwxy',\n",
              " 'efghijklmnopqrstuvwxyz',\n",
              " 'f',\n",
              " 'fg',\n",
              " 'fgh',\n",
              " 'fghi',\n",
              " 'fghij',\n",
              " 'fghijk',\n",
              " 'fghijkl',\n",
              " 'fghijklm',\n",
              " 'fghijklmn',\n",
              " 'fghijklmno',\n",
              " 'fghijklmnop',\n",
              " 'fghijklmnopq',\n",
              " 'fghijklmnopqr',\n",
              " 'fghijklmnopqrs',\n",
              " 'fghijklmnopqrst',\n",
              " 'fghijklmnopqrstu',\n",
              " 'fghijklmnopqrstuv',\n",
              " 'fghijklmnopqrstuvw',\n",
              " 'fghijklmnopqrstuvwx',\n",
              " 'fghijklmnopqrstuvwxy',\n",
              " 'fghijklmnopqrstuvwxyz',\n",
              " 'g',\n",
              " 'gh',\n",
              " 'ghi',\n",
              " 'ghij',\n",
              " 'ghijk',\n",
              " 'ghijkl',\n",
              " 'ghijklm',\n",
              " 'ghijklmn',\n",
              " 'ghijklmno',\n",
              " 'ghijklmnop',\n",
              " 'ghijklmnopq',\n",
              " 'ghijklmnopqr',\n",
              " 'ghijklmnopqrs',\n",
              " 'ghijklmnopqrst',\n",
              " 'ghijklmnopqrstu',\n",
              " 'ghijklmnopqrstuv',\n",
              " 'ghijklmnopqrstuvw',\n",
              " 'ghijklmnopqrstuvwx',\n",
              " 'ghijklmnopqrstuvwxy',\n",
              " 'ghijklmnopqrstuvwxyz',\n",
              " 'h',\n",
              " 'hi',\n",
              " 'hij',\n",
              " 'hijk',\n",
              " 'hijkl',\n",
              " 'hijklm',\n",
              " 'hijklmn',\n",
              " 'hijklmno',\n",
              " 'hijklmnop',\n",
              " 'hijklmnopq',\n",
              " 'hijklmnopqr',\n",
              " 'hijklmnopqrs',\n",
              " 'hijklmnopqrst',\n",
              " 'hijklmnopqrstu',\n",
              " 'hijklmnopqrstuv',\n",
              " 'hijklmnopqrstuvw',\n",
              " 'hijklmnopqrstuvwx',\n",
              " 'hijklmnopqrstuvwxy',\n",
              " 'hijklmnopqrstuvwxyz',\n",
              " 'i',\n",
              " 'ij',\n",
              " 'ijk',\n",
              " 'ijkl',\n",
              " 'ijklm',\n",
              " 'ijklmn',\n",
              " 'ijklmno',\n",
              " 'ijklmnop',\n",
              " 'ijklmnopq',\n",
              " 'ijklmnopqr',\n",
              " 'ijklmnopqrs',\n",
              " 'ijklmnopqrst',\n",
              " 'ijklmnopqrstu',\n",
              " 'ijklmnopqrstuv',\n",
              " 'ijklmnopqrstuvw',\n",
              " 'ijklmnopqrstuvwx',\n",
              " 'ijklmnopqrstuvwxy',\n",
              " 'ijklmnopqrstuvwxyz',\n",
              " 'j',\n",
              " 'jk',\n",
              " 'jkl',\n",
              " 'jklm',\n",
              " 'jklmn',\n",
              " 'jklmno',\n",
              " 'jklmnop',\n",
              " 'jklmnopq',\n",
              " 'jklmnopqr',\n",
              " 'jklmnopqrs',\n",
              " 'jklmnopqrst',\n",
              " 'jklmnopqrstu',\n",
              " 'jklmnopqrstuv',\n",
              " 'jklmnopqrstuvw',\n",
              " 'jklmnopqrstuvwx',\n",
              " 'jklmnopqrstuvwxy',\n",
              " 'jklmnopqrstuvwxyz',\n",
              " 'k',\n",
              " 'kl',\n",
              " 'klm',\n",
              " 'klmn',\n",
              " 'klmno',\n",
              " 'klmnop',\n",
              " 'klmnopq',\n",
              " 'klmnopqr',\n",
              " 'klmnopqrs',\n",
              " 'klmnopqrst',\n",
              " 'klmnopqrstu',\n",
              " 'klmnopqrstuv',\n",
              " 'klmnopqrstuvw',\n",
              " 'klmnopqrstuvwx',\n",
              " 'klmnopqrstuvwxy',\n",
              " 'klmnopqrstuvwxyz',\n",
              " 'l',\n",
              " 'lm',\n",
              " 'lmn',\n",
              " 'lmno',\n",
              " 'lmnop',\n",
              " 'lmnopq',\n",
              " 'lmnopqr',\n",
              " 'lmnopqrs',\n",
              " 'lmnopqrst',\n",
              " 'lmnopqrstu',\n",
              " 'lmnopqrstuv',\n",
              " 'lmnopqrstuvw',\n",
              " 'lmnopqrstuvwx',\n",
              " 'lmnopqrstuvwxy',\n",
              " 'lmnopqrstuvwxyz',\n",
              " 'm',\n",
              " 'mn',\n",
              " 'mno',\n",
              " 'mnop',\n",
              " 'mnopq',\n",
              " 'mnopqr',\n",
              " 'mnopqrs',\n",
              " 'mnopqrst',\n",
              " 'mnopqrstu',\n",
              " 'mnopqrstuv',\n",
              " 'mnopqrstuvw',\n",
              " 'mnopqrstuvwx',\n",
              " 'mnopqrstuvwxy',\n",
              " 'mnopqrstuvwxyz',\n",
              " 'n',\n",
              " 'no',\n",
              " 'nop',\n",
              " 'nopq',\n",
              " 'nopqr',\n",
              " 'nopqrs',\n",
              " 'nopqrst',\n",
              " 'nopqrstu',\n",
              " 'nopqrstuv',\n",
              " 'nopqrstuvw',\n",
              " 'nopqrstuvwx',\n",
              " 'nopqrstuvwxy',\n",
              " 'nopqrstuvwxyz',\n",
              " 'o',\n",
              " 'op',\n",
              " 'opq',\n",
              " 'opqr',\n",
              " 'opqrs',\n",
              " 'opqrst',\n",
              " 'opqrstu',\n",
              " 'opqrstuv',\n",
              " 'opqrstuvw',\n",
              " 'opqrstuvwx',\n",
              " 'opqrstuvwxy',\n",
              " 'opqrstuvwxyz',\n",
              " 'p',\n",
              " 'pq',\n",
              " 'pqr',\n",
              " 'pqrs',\n",
              " 'pqrst',\n",
              " 'pqrstu',\n",
              " 'pqrstuv',\n",
              " 'pqrstuvw',\n",
              " 'pqrstuvwx',\n",
              " 'pqrstuvwxy',\n",
              " 'pqrstuvwxyz',\n",
              " 'q',\n",
              " 'qr',\n",
              " 'qrs',\n",
              " 'qrst',\n",
              " 'qrstu',\n",
              " 'qrstuv',\n",
              " 'qrstuvw',\n",
              " 'qrstuvwx',\n",
              " 'qrstuvwxy',\n",
              " 'qrstuvwxyz',\n",
              " 'r',\n",
              " 'rs',\n",
              " 'rst',\n",
              " 'rstu',\n",
              " 'rstuv',\n",
              " 'rstuvw',\n",
              " 'rstuvwx',\n",
              " 'rstuvwxy',\n",
              " 'rstuvwxyz',\n",
              " 's',\n",
              " 'st',\n",
              " 'stu',\n",
              " 'stuv',\n",
              " 'stuvw',\n",
              " 'stuvwx',\n",
              " 'stuvwxy',\n",
              " 'stuvwxyz',\n",
              " 't',\n",
              " 'tu',\n",
              " 'tuv',\n",
              " 'tuvw',\n",
              " 'tuvwx',\n",
              " 'tuvwxy',\n",
              " 'tuvwxyz',\n",
              " 'u',\n",
              " 'uv',\n",
              " 'uvw',\n",
              " 'uvwx',\n",
              " 'uvwxy',\n",
              " 'uvwxyz',\n",
              " 'v',\n",
              " 'vw',\n",
              " 'vwx',\n",
              " 'vwxy',\n",
              " 'vwxyz',\n",
              " 'w',\n",
              " 'wx',\n",
              " 'wxy',\n",
              " 'wxyz',\n",
              " 'x',\n",
              " 'xy',\n",
              " 'xyz',\n",
              " 'y',\n",
              " 'yz',\n",
              " 'z']"
            ]
          },
          "metadata": {},
          "execution_count": 14
        }
      ]
    },
    {
      "cell_type": "code",
      "source": [
        "s = 'azcbobobegghakl'\n",
        "\n",
        "import string\n",
        "alphabet = string.ascii_lowercase\n",
        "\n",
        "\n",
        "#create substrings in alphabetical order\n",
        "for i in range(len(s)):\n",
        "  found_substring = s[i]\n",
        "  for j in range(i,len(s)-i):\n",
        "    if alphabet.index(s[i+j])>= alphabet.index(found_substring[-1]):# and alphabet.index(s[i+j]) >= alphabet.index(found_substring[-1]):\n",
        "      print('The letter is ', s[i+j], 'position is ',alphabet.index(s[i+j]))\n",
        "      print(s[i+j])\n",
        "      found_substring+=s[i+j]\n",
        "      print(found_substring)\n",
        "\n",
        "\n",
        "\n",
        "#print('Longest substring in alphabetical order is: ',longest_substring)"
      ],
      "metadata": {
        "colab": {
          "base_uri": "https://localhost:8080/"
        },
        "id": "vLO43ZykMBlW",
        "outputId": "0d65955f-c6c6-4d42-ae05-58a34e7edd8d"
      },
      "execution_count": 41,
      "outputs": [
        {
          "output_type": "stream",
          "name": "stdout",
          "text": [
            "The letter is  a position is  0\n",
            "a\n",
            "aa\n",
            "The letter is  z position is  25\n",
            "z\n",
            "aaz\n",
            "The letter is  o position is  14\n",
            "o\n",
            "co\n",
            "The letter is  o position is  14\n",
            "o\n",
            "coo\n",
            "The letter is  o position is  14\n",
            "o\n",
            "bo\n",
            "The letter is  g position is  6\n",
            "g\n",
            "bg\n",
            "The letter is  h position is  7\n",
            "h\n",
            "bgh\n",
            "The letter is  k position is  10\n",
            "k\n",
            "bghk\n",
            "The letter is  l position is  11\n",
            "l\n",
            "bghkl\n",
            "The letter is  l position is  11\n",
            "l\n",
            "bl\n"
          ]
        }
      ]
    },
    {
      "cell_type": "code",
      "source": [
        "found = \"ab\"\n",
        "found[-1]"
      ],
      "metadata": {
        "colab": {
          "base_uri": "https://localhost:8080/",
          "height": 37
        },
        "id": "F1lYC03B7vuA",
        "outputId": "39d2866e-b223-4e0a-ca6c-09a416058b3c"
      },
      "execution_count": 23,
      "outputs": [
        {
          "output_type": "execute_result",
          "data": {
            "text/plain": [
              "'b'"
            ],
            "application/vnd.google.colaboratory.intrinsic+json": {
              "type": "string"
            }
          },
          "metadata": {},
          "execution_count": 23
        }
      ]
    },
    {
      "cell_type": "code",
      "source": [
        "alphabet.index(s[2])"
      ],
      "metadata": {
        "colab": {
          "base_uri": "https://localhost:8080/"
        },
        "id": "SI1gEd7ENX-D",
        "outputId": "33269f05-d8b1-4882-dc63-72784e940290"
      },
      "execution_count": 30,
      "outputs": [
        {
          "output_type": "execute_result",
          "data": {
            "text/plain": [
              "2"
            ]
          },
          "metadata": {},
          "execution_count": 30
        }
      ]
    },
    {
      "cell_type": "code",
      "source": [
        "'b' > 'z'"
      ],
      "metadata": {
        "colab": {
          "base_uri": "https://localhost:8080/"
        },
        "id": "YDI8q8jFPYT5",
        "outputId": "2623e9da-ca48-4c4e-e135-3bbf741aedc4"
      },
      "execution_count": 4,
      "outputs": [
        {
          "output_type": "execute_result",
          "data": {
            "text/plain": [
              "False"
            ]
          },
          "metadata": {},
          "execution_count": 4
        }
      ]
    },
    {
      "cell_type": "code",
      "source": [
        "s = 'azcbobobegghakl'\n",
        "\n",
        "substring = s[0]\n",
        "longestSubstring = s[0]\n",
        "\n",
        "for letter in s[1:]:\n",
        "\n",
        "  if letter >= substring[-1]:\n",
        "    substring += letter\n",
        "  else:\n",
        "    substring = letter\n",
        "\n",
        "  if len(substring) > len(longestSubstring):\n",
        "    longestSubstring = substring  \n",
        "\n",
        "print('Longest substring in alphabetical order is: ', longestSubstring)"
      ],
      "metadata": {
        "colab": {
          "base_uri": "https://localhost:8080/"
        },
        "id": "IQBOiMXtPaFz",
        "outputId": "0ae85067-52c5-49eb-b743-b2cf7009c1b9"
      },
      "execution_count": 5,
      "outputs": [
        {
          "output_type": "stream",
          "name": "stdout",
          "text": [
            "Longest substring in alphabetical order is:  beggh\n"
          ]
        }
      ]
    },
    {
      "cell_type": "code",
      "source": [
        "print(longestSubstring)"
      ],
      "metadata": {
        "colab": {
          "base_uri": "https://localhost:8080/"
        },
        "id": "HBKffEv92n5g",
        "outputId": "6e682bd4-4138-476b-997c-22ed24245577"
      },
      "execution_count": 17,
      "outputs": [
        {
          "output_type": "stream",
          "name": "stdout",
          "text": [
            "akl\n"
          ]
        }
      ]
    },
    {
      "cell_type": "code",
      "source": [
        ""
      ],
      "metadata": {
        "id": "H7CA7ivZ3YP9"
      },
      "execution_count": null,
      "outputs": []
    }
  ]
}