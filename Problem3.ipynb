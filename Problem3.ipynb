{
  "nbformat": 4,
  "nbformat_minor": 0,
  "metadata": {
    "colab": {
      "name": "Problem3.ipynb",
      "provenance": [],
      "authorship_tag": "ABX9TyNqKfmFbJW63vvnKlpwlBHi",
      "include_colab_link": true
    },
    "kernelspec": {
      "name": "python3",
      "display_name": "Python 3"
    },
    "language_info": {
      "name": "python"
    }
  },
  "cells": [
    {
      "cell_type": "markdown",
      "metadata": {
        "id": "view-in-github",
        "colab_type": "text"
      },
      "source": [
        "<a href=\"https://colab.research.google.com/github/prokudin/Summer2022/blob/main/Problem3.ipynb\" target=\"_parent\"><img src=\"https://colab.research.google.com/assets/colab-badge.svg\" alt=\"Open In Colab\"/></a>"
      ]
    },
    {
      "cell_type": "code",
      "execution_count": null,
      "metadata": {
        "id": "41dSyAxLpKQ7"
      },
      "outputs": [],
      "source": [
        ""
      ]
    },
    {
      "cell_type": "markdown",
      "source": [
        "Problem Set due Jun 17, 2022 01:30 CEST\n",
        "Problem 3\n",
        "\n",
        "0.0/15.0 points (graded)\n",
        "Assume s is a string of lower case characters.\n",
        "\n",
        "Write a program that prints the longest substring of s in which the letters occur in alphabetical order. For example, if s = 'azcbobobegghakl', then your program should print\n",
        "\n",
        "Longest substring in alphabetical order is: beggh\n",
        "\n",
        "In the case of ties, print the first substring. For example, if s = 'abcbcd', then your program should print\n",
        "\n",
        "Longest substring in alphabetical order is: abc\n",
        "\n",
        "Note: This problem may be challenging. We encourage you to work smart. If you've spent more than a few hours on this problem, we suggest that you move on to a different part of the course. If you have time, come back to this problem after you've had a break and cleared your head."
      ],
      "metadata": {
        "id": "u35jfNmGpNIM"
      }
    },
    {
      "cell_type": "code",
      "source": [
        ""
      ],
      "metadata": {
        "id": "CXyOw_YhpSR9"
      },
      "execution_count": null,
      "outputs": []
    }
  ]
}