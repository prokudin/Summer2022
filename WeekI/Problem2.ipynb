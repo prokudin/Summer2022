{
 "cells": [
  {
   "cell_type": "markdown",
   "metadata": {},
   "source": [
    "Problem Set due Jun 17, 2022 01:30 CEST\n",
    "Completed\n",
    "Problem 2\n",
    "\n",
    "10.0/10.0 points (graded)\n",
    "Assume s is a string of lower case characters.\n",
    "\n",
    "Write a program that prints the number of times the string 'bob' occurs in s. For example, if s = 'azcbobobegghakl', then your program should print\n",
    "\n",
    "Number of times bob occurs is: 2"
   ]
  },
  {
   "cell_type": "code",
   "execution_count": 3,
   "metadata": {},
   "outputs": [
    {
     "name": "stdout",
     "output_type": "stream",
     "text": [
      "Number of times bob occurs is:  2\n",
      "Number of times bob occurs is:  5\n"
     ]
    }
   ],
   "source": [
    "s = 'azcbobobegghakl'\n",
    "bob = 'bob'\n",
    "\n",
    "def find_string(s,bob):\n",
    "    '''\n",
    "    This function finds the number of times the string 'bob' occurs in s.\n",
    "    '''\n",
    "    count = 0\n",
    "    lengthbob = len(bob)\n",
    "    lengths   = len(s)\n",
    "    \n",
    "    for i in range(lengths-lengthbob+1):\n",
    "        #print(s[i:i+lengthbob])\n",
    "        if s[i:i+lengthbob] == bob:\n",
    "            count += 1\n",
    "            \n",
    "    return count\n",
    "\n",
    "#Test it here\n",
    "print('Number of times bob occurs is: ',find_string(s,bob))\n",
    "print('Number of times bob occurs is: ',find_string(s+3*bob,bob))"
   ]
  },
  {
   "cell_type": "code",
   "execution_count": null,
   "metadata": {},
   "outputs": [],
   "source": []
  }
 ],
 "metadata": {
  "kernelspec": {
   "display_name": "Python 3",
   "language": "python",
   "name": "python3"
  },
  "language_info": {
   "codemirror_mode": {
    "name": "ipython",
    "version": 3
   },
   "file_extension": ".py",
   "mimetype": "text/x-python",
   "name": "python",
   "nbconvert_exporter": "python",
   "pygments_lexer": "ipython3",
   "version": "3.7.4"
  }
 },
 "nbformat": 4,
 "nbformat_minor": 4
}
