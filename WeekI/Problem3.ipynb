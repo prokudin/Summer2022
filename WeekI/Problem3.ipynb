{
 "cells": [
  {
   "cell_type": "markdown",
   "metadata": {},
   "source": [
    "Problem Set due Jun 17, 2022 01:30 CEST Problem 3\n",
    "\n",
    "0.0/15.0 points (graded) Assume s is a string of lower case characters.\n",
    "\n",
    "Write a program that prints the longest substring of s in which the letters occur in alphabetical order. For example, if s = 'azcbobobegghakl', then your program should print\n",
    "\n",
    "Longest substring in alphabetical order is: beggh\n",
    "\n",
    "In the case of ties, print the first substring. For example, if s = 'abcbcd', then your program should print\n",
    "\n",
    "Longest substring in alphabetical order is: abc\n",
    "\n",
    "Note: This problem may be challenging. We encourage you to work smart. If you've spent more than a few hours on this problem, we suggest that you move on to a different part of the course. If you have time, come back to this problem after you've had a break and cleared your head."
   ]
  },
  {
   "cell_type": "code",
   "execution_count": 15,
   "metadata": {},
   "outputs": [
    {
     "name": "stdout",
     "output_type": "stream",
     "text": [
      "Longest substring in alphabetical order is:  est\n",
      "Longest substring in alphabetical order is:  abc\n",
      "Longest substring in alphabetical order is:  beggh\n"
     ]
    }
   ],
   "source": [
    "#s = 'azcbobobegghakl'\n",
    "#s = 'abcbcd'\n",
    "s = 'test'\n",
    "\n",
    "def find_longest_substring(s):\n",
    "    '''\n",
    "    This function finds the longest substring of s in which the letters occur in alphabetical order.\n",
    "    '''\n",
    "    longest_substring = s[0]\n",
    "    substring = s[0]\n",
    "\n",
    "    for letter in s[1:]:\n",
    "        if letter >= substring[-1]: # Remember that 'z' > 'a', so we can use it for alphabetical order\n",
    "            substring += letter\n",
    "        else:\n",
    "            substring  = letter\n",
    "        \n",
    "        if len(substring) > len(longest_substring):\n",
    "            longest_substring = substring\n",
    "        \n",
    "    return longest_substring\n",
    "\n",
    "# Here we test two strings from the problem:\n",
    "print('Longest substring in alphabetical order is: ',find_longest_substring(s))        \n",
    "print('Longest substring in alphabetical order is: ',find_longest_substring('abcbcd'))        \n",
    "print('Longest substring in alphabetical order is: ',find_longest_substring('azcbobobegghakl'))        \n",
    "         "
   ]
  },
  {
   "cell_type": "code",
   "execution_count": null,
   "metadata": {},
   "outputs": [],
   "source": []
  }
 ],
 "metadata": {
  "kernelspec": {
   "display_name": "Python 3",
   "language": "python",
   "name": "python3"
  },
  "language_info": {
   "codemirror_mode": {
    "name": "ipython",
    "version": 3
   },
   "file_extension": ".py",
   "mimetype": "text/x-python",
   "name": "python",
   "nbconvert_exporter": "python",
   "pygments_lexer": "ipython3",
   "version": "3.7.4"
  }
 },
 "nbformat": 4,
 "nbformat_minor": 4
}
