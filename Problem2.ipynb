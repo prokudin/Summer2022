{
  "nbformat": 4,
  "nbformat_minor": 0,
  "metadata": {
    "colab": {
      "name": "Problem2.ipynb",
      "provenance": [],
      "authorship_tag": "ABX9TyOHUnlrgvGFCT6fV7r51iE/",
      "include_colab_link": true
    },
    "kernelspec": {
      "name": "python3",
      "display_name": "Python 3"
    },
    "language_info": {
      "name": "python"
    }
  },
  "cells": [
    {
      "cell_type": "markdown",
      "metadata": {
        "id": "view-in-github",
        "colab_type": "text"
      },
      "source": [
        "<a href=\"https://colab.research.google.com/github/prokudin/Summer2022/blob/main/Problem2.ipynb\" target=\"_parent\"><img src=\"https://colab.research.google.com/assets/colab-badge.svg\" alt=\"Open In Colab\"/></a>"
      ]
    },
    {
      "cell_type": "code",
      "execution_count": null,
      "metadata": {
        "id": "5WkhrfIQo-xV"
      },
      "outputs": [],
      "source": [
        ""
      ]
    },
    {
      "cell_type": "markdown",
      "source": [
        "Problem Set due Jun 17, 2022 01:30 CEST\n",
        "Problem 2\n",
        "\n",
        "0.0/10.0 points (graded)\n",
        "Assume s is a string of lower case characters.\n",
        "\n",
        "Write a program that prints the number of times the string 'bob' occurs in s. For example, if s = 'azcbobobegghakl', then your program should print\n",
        "\n",
        "Number of times bob occurs is: 2\n"
      ],
      "metadata": {
        "id": "fISjD7ylo_n3"
      }
    },
    {
      "cell_type": "code",
      "source": [
        "s = 'bobazcbobobegghaklbob'\n",
        "ls = len(s) # length of the string\n",
        "\n",
        "bob = 'bob'\n",
        "lbob= len(bob) # length of bob\n",
        "\n",
        "countbob = 0\n",
        "for i in range(ls-lbob+1):\n",
        "  #print(s[i:i+lbob])\n",
        "  if s[i:i+lbob] == bob:\n",
        "    countbob+=1\n",
        "\n",
        "print('Number of times ', bob,' occurs is:', countbob)   "
      ],
      "metadata": {
        "colab": {
          "base_uri": "https://localhost:8080/"
        },
        "id": "-gHRe-_6pAwj",
        "outputId": "21a17379-92b7-49dd-86cf-d4c930b594f2"
      },
      "execution_count": 8,
      "outputs": [
        {
          "output_type": "stream",
          "name": "stdout",
          "text": [
            "Number of times  bob  occurs is: 4\n"
          ]
        }
      ]
    },
    {
      "cell_type": "code",
      "source": [
        "range(ls-lbob)"
      ],
      "metadata": {
        "colab": {
          "base_uri": "https://localhost:8080/"
        },
        "id": "Mmjny6PH4s7M",
        "outputId": "3f6ad46b-5aa4-4c78-c336-394ab5495276"
      },
      "execution_count": 5,
      "outputs": [
        {
          "output_type": "execute_result",
          "data": {
            "text/plain": [
              "range(0, 15)"
            ]
          },
          "metadata": {},
          "execution_count": 5
        }
      ]
    },
    {
      "cell_type": "code",
      "source": [
        ""
      ],
      "metadata": {
        "id": "DB4uJEx953_6"
      },
      "execution_count": null,
      "outputs": []
    }
  ]
}