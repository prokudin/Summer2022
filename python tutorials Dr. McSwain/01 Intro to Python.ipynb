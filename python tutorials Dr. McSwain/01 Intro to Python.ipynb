{
 "cells": [
  {
   "cell_type": "markdown",
   "metadata": {},
   "source": [
    "# Python Tutorial 01 - Introduction to the Jupyter Notebook app\n",
    "## M. Virginia McSwain (Lehigh University; mcswain@lehigh.edu)"
   ]
  },
  {
   "cell_type": "markdown",
   "metadata": {},
   "source": [
    "## Table of contents\n",
    "* [Running Python](#running)\n",
    "* [Opening Jupyter Notebook](#opening)\n",
    "* [Shutting Down Jupyter Notebook](#shutdown)\n",
    "* [Editing a Jupyter Notebook](#editing)\n",
    "* [Executing a Python Script in Jupyter Notebook](#executing)\n",
    "* [Important Notes](#notes)"
   ]
  },
  {
   "cell_type": "markdown",
   "metadata": {},
   "source": [
    "<a class=\"anchor\" id=\"running\"></a>\n",
    "## Running Python"
   ]
  },
  {
   "cell_type": "markdown",
   "metadata": {},
   "source": [
    "There are several different ways to run Python scripts.  A common way for developers (especially Unix users) is to use a text-based terminal called a \"shell\" to run Python from the command line.  This method is very powerful but lacks handy interactive features like viewing plots of your data.  \n",
    "\n",
    "You might also use an interactive Python gui, called \"iPython\", to run scripts.  This has the major advantage of combining computational power with visualizations.  \n",
    "\n",
    "Finally, many professionals are turning to Jupyter to run Python in user-friendly, interactive Notebooks.  It allows you to write notebooks similar to Mathematica, SageMath, etc.  The advantage of doing this is that you can include text, equations, code, and plots in the same document, and it is easy to share them with others.  \n",
    "\n",
    "The easiest way to install Jupyter is through the Anaconda package (https://www.anaconda.com/download/).  I will use the Jupyter Notebook format throughout this course.  Once you download Anaconda, you should also be able to run Python from your default shell, and it also includes an iPython environment called Spyder.  So you get all of the options with no additional trouble!"
   ]
  },
  {
   "cell_type": "markdown",
   "metadata": {},
   "source": [
    "<a class=\"anchor\" id=\"opening\"></a>\n",
    "## Opening Jupyter Notebook"
   ]
  },
  {
   "cell_type": "markdown",
   "metadata": {},
   "source": [
    "### From your personal computer (Mac or Windows):  \n",
    "\n",
    "Open the **Anaconda Navigator** application.  You should see a menu of different platforms; select either **JupyterLab** or **Jupyter Notebook**.  Jupyter will open as a new tab in your web browser. \n",
    "\n",
    "The JupyterLab and Notebook formats are similar but there are some slight differences in the interfaces.  The instructions here are specific to JupyterLab. \n",
    "\n",
    "### Using the Astro Data Lab:\n",
    "\n",
    "You can sign up for a free account at https://datalab.noao.edu/.  Please use your Lehigh email address since all students, professional astronomers, and amateur astronomers are eligible for a free account.  Your affiliation with Lehigh will guarantee your access.\n",
    "\n",
    "One your account request is approved (this may take a day or two), log in to the <a href=\"https://datalab.noao.edu/\">Data Lab</a>. Go to the **Quick Start** tab and select **Launch a Jupyter Notebook**.  JupyterLab will open in your web browser.\n"
   ]
  },
  {
   "cell_type": "markdown",
   "metadata": {},
   "source": [
    "<a class=\"anchor\" id=\"shutdown\"></a>\n",
    "## Shutting Down Jupyter Notebook"
   ]
  },
  {
   "cell_type": "markdown",
   "metadata": {},
   "source": [
    "Closing the notebook tab in your browser is NOT sufficient to shut down the current open notebook or the Jupyter Notebook App.  You will need to go to the **File** menu and select **Close and Shutdown Notebook** to shut down the current notebook.  When you are finished using Jupyter, you should go to the **File** menu and select **Log Out**.\n",
    "\n",
    "If you are using the Data Lab's Jupyter platform, logging out of the Data Lab should shut down your active notebooks. "
   ]
  },
  {
   "cell_type": "markdown",
   "metadata": {},
   "source": [
    "<a class=\"anchor\" id=\"editing\"></a>\n",
    "## Editing a Jupyter Notebook"
   ]
  },
  {
   "cell_type": "markdown",
   "metadata": {},
   "source": [
    "The top of your Jupyter Notebook contains some tools that are similar to your standard word processor.  In the **File** menu, you can open a new notebook, save your work, rename it, etc.  In the **Edit** menu, you can copy and paste, delete cells, etc.  \n",
    "\n",
    "You will find the **Insert** menu particularly useful to add new text or code elements to your notebook.  By default, new cells will be inserted in *Code* format.  \n",
    "\n",
    "To enter text (non-code) in the notebook, click on a cell, and in the drop-down menu in the toolbar, select *Markdown*.  You can just write text normally and press ``Shift-Enter`` to render it into a reader-friendly format.  To edit it the Markdown cell after it's been rendered, double click on the cell.  \n",
    "\n",
    "#### Section Headings\n",
    "\n",
    "You can set up section headings using the following syntax:\n",
    "\n",
    "    This is a title\n",
    "    ===============\n",
    "\n",
    "    This is a sub-title\n",
    "    -------------------\n",
    "    \n",
    "    # Level-1 Heading\n",
    "    \n",
    "    ## Level-2 Heading\n",
    "    \n",
    "    ### Level-3 Heading\n",
    "    \n",
    "    #### Level-4 Heading\n",
    "    \n",
    "\n",
    "which will look like:\n",
    "\n",
    "This is a title\n",
    "===============\n",
    "\n",
    "This is a sub-title\n",
    "-------------------\n",
    "\n",
    "# Level-1 Heading\n",
    "## Level-2 Heading\n",
    "### Level-3 Heading\n",
    "#### Level-4 Heading\n",
    "\n",
    "\n",
    "#### Using Equations in Markdown Cells\n",
    "\n",
    "Finally, if you are familiar with LaTeX, you can enter equations using:\n",
    "\n",
    "    $$E = m c^2$$\n",
    "\n",
    "on a separate line, or:\n",
    "\n",
    "    The equation $p=\\frac{h}{\\lambda}$ is very important.\n",
    "\n",
    "to include it in a sentence.  (Note that the indentation in the Markdown cell allows me to display the formatting codes instead of the formatted equation.)\n",
    "\n",
    "When the cell is rendered, it will look like:\n",
    "\n",
    "$$E = m c^2$$\n",
    "\n",
    "The equation $p=\\frac{h}{\\lambda}$ is very important.\n"
   ]
  },
  {
   "cell_type": "markdown",
   "metadata": {},
   "source": [
    "### Try it now!  \n",
    "\n",
    "Insert a new cell of code below this cell.  Then insert a new Markdown cell with your own headings or titles, text, and an equation."
   ]
  },
  {
   "cell_type": "code",
   "execution_count": 1,
   "metadata": {},
   "outputs": [
    {
     "name": "stdout",
     "output_type": "stream",
     "text": [
      "Hello!\n"
     ]
    }
   ],
   "source": [
    "print ('Hello!')"
   ]
  },
  {
   "cell_type": "markdown",
   "metadata": {},
   "source": []
  },
  {
   "cell_type": "markdown",
   "metadata": {},
   "source": [
    "<a class=\"anchor\" id=\"executing\"></a>\n",
    "## Executing a Python Script in Jupyter Notebook"
   ]
  },
  {
   "cell_type": "markdown",
   "metadata": {},
   "source": [
    "When you type one or more lines of code into a cell, you can execute the code by placing the cursor anywhere in the cell and typing **`Shift-Return`**.  Any output (including your results, warnings, and errors) will be displayed below the cell.  \n",
    "\n",
    "### Try it now!  \n",
    "\n",
    "Execute the following cells of code."
   ]
  },
  {
   "cell_type": "code",
   "execution_count": null,
   "metadata": {},
   "outputs": [],
   "source": [
    "print (\"Hello world!\")"
   ]
  },
  {
   "cell_type": "code",
   "execution_count": null,
   "metadata": {},
   "outputs": [],
   "source": [
    "1 + 2"
   ]
  },
  {
   "cell_type": "code",
   "execution_count": null,
   "metadata": {},
   "outputs": [],
   "source": [
    "2**3"
   ]
  },
  {
   "cell_type": "code",
   "execution_count": null,
   "metadata": {},
   "outputs": [],
   "source": [
    "a = 1\n",
    "b = 3\n",
    "print (a, b)"
   ]
  },
  {
   "cell_type": "code",
   "execution_count": null,
   "metadata": {},
   "outputs": [],
   "source": [
    "print (a+b)"
   ]
  },
  {
   "cell_type": "code",
   "execution_count": null,
   "metadata": {},
   "outputs": [],
   "source": [
    "a = 5"
   ]
  },
  {
   "cell_type": "markdown",
   "metadata": {},
   "source": [
    "<a class=\"anchor\" id=\"notes\"></a>\n",
    "## Important notes"
   ]
  },
  {
   "cell_type": "markdown",
   "metadata": {},
   "source": [
    "A few important notes about using the notebook: code *can* be executed in an order different from top to bottom, but note that if you do this, variables will not be reset. So for example if you type:\n",
    "\n",
    "```\n",
    "a = 1\n",
    "```\n",
    "\n",
    "then go to a cell that is higher up and type:\n",
    "\n",
    "```\n",
    "print (a)\n",
    "```\n",
    "\n",
    "it will give the value you set most recently. To make sure that your code works from top to bottom, go to the **Edit** menu item and go to **Clear All Outputs**, then rerun your code from the beginning.\n",
    "\n",
    "In addition, even if you remove a cell, then variables set in that cell are still saved in memory until you log out of the notebook. If you want to flush the memory, you can select **Kernel** -> **Restart Kernal**. This removes any variables from memory, and you can restart your code."
   ]
  },
  {
   "cell_type": "code",
   "execution_count": null,
   "metadata": {},
   "outputs": [],
   "source": []
  }
 ],
 "metadata": {
  "anaconda-cloud": {},
  "kernelspec": {
   "display_name": "Python 3",
   "language": "python",
   "name": "python3"
  },
  "language_info": {
   "codemirror_mode": {
    "name": "ipython",
    "version": 3
   },
   "file_extension": ".py",
   "mimetype": "text/x-python",
   "name": "python",
   "nbconvert_exporter": "python",
   "pygments_lexer": "ipython3",
   "version": "3.8.5"
  }
 },
 "nbformat": 4,
 "nbformat_minor": 4
}
