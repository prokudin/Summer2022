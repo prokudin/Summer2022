{
 "cells": [
  {
   "cell_type": "markdown",
   "metadata": {},
   "source": [
    "# Python Tutorial 03 - For, While, If, and Try Blocks \n",
    "## M. Virginia McSwain (Lehigh University; mcswain@lehigh.edu)"
   ]
  },
  {
   "cell_type": "markdown",
   "metadata": {},
   "source": [
    "## Table of contents\n",
    "* [For Loops](#for)\n",
    "* [Nested For Loops](#nested)\n",
    "* [Looping with the Zip Function](#zip)\n",
    "* [While Loops](#while)\n",
    "* [If-Else Statements](#if)\n",
    "* [Try-Except Blocks](#try)"
   ]
  },
  {
   "cell_type": "markdown",
   "metadata": {},
   "source": [
    "<a class=\"anchor\" id=\"for\"></a>\n",
    "## For Loops"
   ]
  },
  {
   "cell_type": "markdown",
   "metadata": {},
   "source": [
    "A **`for`** loop is a block of code that can execute a repetitive series of commands for a fixed number of iterations. \n",
    "**`For`** loops use a counting index (a variable that you can define) to sequence the commands.  You should define the starting and ending value of the index when you start the block of code.\n",
    "\n",
    "Other programming languages might use brackets or other syntax to denote a loop, but Python simply uses a slight indentation.  It's good practice to use spaces, not tabs, to indent your code blocks.  (iPython and Jupyter will add spaces automatically when it thinks you're putting in a loop.)  \n",
    "\n",
    "Note the difference in the syntax of the two loops below.  "
   ]
  },
  {
   "cell_type": "code",
   "execution_count": null,
   "metadata": {},
   "outputs": [],
   "source": [
    "for x in range(3): \n",
    "    print (\"x = \", x)\n",
    "    print (\"Finished\")"
   ]
  },
  {
   "cell_type": "code",
   "execution_count": null,
   "metadata": {},
   "outputs": [],
   "source": [
    "for x in range(3): \n",
    "    print (\"x = \", x)\n",
    "print (\"Finished\")"
   ]
  },
  {
   "cell_type": "markdown",
   "metadata": {},
   "source": [
    "Also notice that in the previous example, the loop runs 3 times (for x = 0, 1, and 2).  When x = 3, the loop exits.  This is a useful feature when you use **`for`** loops with multiple variables or explicitly define new counting indices.\n",
    "\n",
    "In many situations, it’s useful to consider the variable **`newvar`** and its counting index separately.  Notice the different behavior of the following:"
   ]
  },
  {
   "cell_type": "code",
   "execution_count": null,
   "metadata": {},
   "outputs": [],
   "source": [
    "# This loops over the values of the variable directly\n",
    "newvar = [25, 13, 61, 30, 42]\n",
    "for i in newvar:\n",
    "    print (i)"
   ]
  },
  {
   "cell_type": "code",
   "execution_count": null,
   "metadata": {},
   "outputs": [],
   "source": [
    "# This loops over all the index numbers within the variable\n",
    "for i in range(len(newvar)):\n",
    "    print (i, newvar[i])\n"
   ]
  },
  {
   "cell_type": "markdown",
   "metadata": {},
   "source": [
    "**`For`** loops can make it easier to do numerical calculations on a list of numbers.  (Of course, you can always do math more easily with numpy arrays than with lists anyway!)"
   ]
  },
  {
   "cell_type": "code",
   "execution_count": null,
   "metadata": {},
   "outputs": [],
   "source": [
    "x=[1,2,3,4,5]\n",
    "\n",
    "#y=x**2             # This will fail.\n",
    "\n",
    "for i in x:\n",
    "    y = i**2\n",
    "    print (y)       # This will work."
   ]
  },
  {
   "cell_type": "code",
   "execution_count": null,
   "metadata": {},
   "outputs": [],
   "source": [
    "import numpy as np\n",
    "\n",
    "x = np.array( [1,2,3,4,5] )\n",
    "y = x**2\n",
    "print (y)"
   ]
  },
  {
   "cell_type": "markdown",
   "metadata": {},
   "source": [
    "<a class=\"anchor\" id=\"nested\"></a>\n",
    "## Nested For Loops"
   ]
  },
  {
   "cell_type": "markdown",
   "metadata": {},
   "source": [
    "You can try all the permutations of multiple variables by using a nested loop.  This is useful when comparing all the elements of multiple arrays, scanning both the rows and columns of a 2-D matrix, and many other situations."
   ]
  },
  {
   "cell_type": "code",
   "execution_count": null,
   "metadata": {},
   "outputs": [],
   "source": [
    "x = [1,2,3]\n",
    "y = [4,5,6]\n",
    "for i in x:\n",
    "    for j in y: \n",
    "        print (i,'*',j,'=',i*j)"
   ]
  },
  {
   "cell_type": "markdown",
   "metadata": {},
   "source": [
    "<a class=\"anchor\" id=\"zip\"></a>\n",
    "## Looping with the Zip Function"
   ]
  },
  {
   "cell_type": "markdown",
   "metadata": {},
   "source": [
    "A **`for`** loop in Python can be pretty slow, but you can often speed up your code using the **`zip`** feature, especially when you need to keep track of multiple variables in a loop.  The following two examples are equivalent in their objectives, but compare the execution time for the two methods.  (Ok, so this example is so simple that they both run pretty fast, and the runtime will depend greatly on what your computer's processor is doing at this exact moment.  The **`zip`** loop may be slightly slower.)"
   ]
  },
  {
   "cell_type": "code",
   "execution_count": null,
   "metadata": {},
   "outputs": [],
   "source": [
    "import time\n",
    "\n",
    "start = time.time()\n",
    "\n",
    "x = [1, 2, 3, 4, 5]\n",
    "y = [5, 4, 3, 2, 1]\n",
    "\n",
    "for i in range(5):\n",
    "    print (x[i]/y[i])\n",
    "    \n",
    "print ('Execution time: ', time.time() - start) "
   ]
  },
  {
   "cell_type": "code",
   "execution_count": null,
   "metadata": {},
   "outputs": [],
   "source": [
    "start = time.time()\n",
    "\n",
    "x = [1, 2, 3, 4, 5]\n",
    "y = [5, 4, 3, 2, 1]\n",
    "\n",
    "for a, b in zip(x, y):\n",
    "    print (a/b)\n",
    "    \n",
    "print ('Execution time: ', time.time() - start) "
   ]
  },
  {
   "cell_type": "markdown",
   "metadata": {},
   "source": [
    "Let's try a more complex example...  The more complicated your code gets, the better the advantage of using **`zip`**.  It's easier to read, too!"
   ]
  },
  {
   "cell_type": "code",
   "execution_count": null,
   "metadata": {},
   "outputs": [],
   "source": [
    "start = time.time()\n",
    "\n",
    "x = [1, 2, 3, 4, 5]\n",
    "y = [5, 4, 3, 2, 1]\n",
    "\n",
    "for i in range(5):\n",
    "    print (x[i]**3/y[i]**2 + y[i]/x[i]**2 + x[i]*y[i])\n",
    "    \n",
    "print ('Execution time: ', time.time() - start) "
   ]
  },
  {
   "cell_type": "code",
   "execution_count": null,
   "metadata": {},
   "outputs": [],
   "source": [
    "start = time.time()\n",
    "\n",
    "x = [1, 2, 3, 4, 5]\n",
    "y = [5, 4, 3, 2, 1]\n",
    "\n",
    "for a, b in zip(x, y):\n",
    "    print (a**3/b**2 + b/a**2 + a*b)\n",
    "    \n",
    "print ('Execution time: ', time.time() - start) "
   ]
  },
  {
   "cell_type": "markdown",
   "metadata": {},
   "source": [
    "<a class=\"anchor\" id=\"while\"></a>\n",
    "## While Loops"
   ]
  },
  {
   "cell_type": "markdown",
   "metadata": {},
   "source": [
    "The main difference between a **`while`** loop and a **`for`** loop is that the counter in a **`while`** loop does not automatically increase.  Note: this makes it very easy to get stuck in an infinite **`while`** loop!  "
   ]
  },
  {
   "cell_type": "code",
   "execution_count": null,
   "metadata": {},
   "outputs": [],
   "source": [
    "# Warning: this block will produce an infinite loop.  \n",
    "# Do not execute this while statement unless you're prepared to kill the notebook suddenly!\n",
    "\n",
    "x = 0\n",
    "#while x = 0:  print (x)"
   ]
  },
  {
   "cell_type": "code",
   "execution_count": null,
   "metadata": {},
   "outputs": [],
   "source": [
    "# As soon as count = 5, this while loop exits. \n",
    "count = 0\n",
    "while count < 5:\n",
    "    print ('The count is: ', count)\n",
    "    count = count+1"
   ]
  },
  {
   "cell_type": "markdown",
   "metadata": {},
   "source": [
    "A common shorthand for the incremental increase of the counter is to use \n",
    "```\n",
    "count += 1\n",
    "```\n",
    "instead of \n",
    "```\n",
    "count = count + 1\n",
    "```\n",
    "They behave exactly the same way.\n",
    "\n",
    "Don't forget to reset your counter (or use a new counter name) each time you start a new **`while`** loop!"
   ]
  },
  {
   "cell_type": "code",
   "execution_count": null,
   "metadata": {},
   "outputs": [],
   "source": [
    "count = 0\n",
    "while count < 5:\n",
    "    print ('The count is: ', count)\n",
    "    count += 1\n",
    "    \n",
    "count = 0\n",
    "while count < 3:\n",
    "    print ('The new count is: ', count)\n",
    "    count += 1"
   ]
  },
  {
   "cell_type": "markdown",
   "metadata": {},
   "source": [
    "<a class=\"anchor\" id=\"if\"></a>\n",
    "## If-Else Statements"
   ]
  },
  {
   "cell_type": "markdown",
   "metadata": {},
   "source": [
    "**`If`** and **`else`** statements rely upon a conditional test (also called Boolean test) to determine whether something is true or false.  \n",
    "\n",
    "To make a mathematical assignment, use \n",
    "```\n",
    "x = 5\n",
    "```\n",
    "To test a mathematical condition (does x = 5?)  use **`==`** or **`!=`** instead.\n",
    "```\n",
    "if x == 5: print ('x does equal 5')\n",
    "if x != 5: print ('x does not equal 5')\n",
    "```\n",
    "Other conditional/Boolean operators in Python:\n",
    "```\n",
    "x >= 5\t\t   # x greater than or equal to 5?\n",
    "x <= 5\t\t   # x less than or equal to 5?\n",
    "x > 5\t\t\t# x greater than 5?\n",
    "x < 5\t\t\t# x less than 5?\n",
    "```\n",
    "\n",
    "Note that the **`else`** statement is optional when using an **`if`** statement."
   ]
  },
  {
   "cell_type": "markdown",
   "metadata": {},
   "source": [
    "You can also combine multiple conditions.  An **`and`** statement requires both conditions to be true:\n",
    "```\n",
    "if x < 5 and x > 3:\n",
    "    <commands follow...>\n",
    "```\n",
    "An **`or`** statement will be true if either statement is true:\n",
    "```\n",
    "if x > 3 or x == 1:\n",
    "    <commands follow...>\n",
    "```"
   ]
  },
  {
   "cell_type": "code",
   "execution_count": null,
   "metadata": {},
   "outputs": [],
   "source": [
    "x = 0\n",
    "if x == 0:\n",
    "    print ('Found it!')"
   ]
  },
  {
   "cell_type": "code",
   "execution_count": null,
   "metadata": {},
   "outputs": [],
   "source": [
    "# Find the index of the position where x = 10\n",
    "x = [5,6,7,8,9,10,11,12]\n",
    "y = 10\n",
    "for i in range(len(x)):\n",
    "    if x[i] == y: print (i)"
   ]
  },
  {
   "cell_type": "code",
   "execution_count": null,
   "metadata": {},
   "outputs": [],
   "source": [
    "x = -1\n",
    "y = 2\n",
    "if x > 0 or y <= 3:\n",
    "    print (\"Match!\")"
   ]
  },
  {
   "cell_type": "code",
   "execution_count": null,
   "metadata": {},
   "outputs": [],
   "source": [
    "x = [1, 1, 1, 2, 2, 2]\n",
    "y = [2, 3, 4, 5, 6, 7]\n",
    "\n",
    "for i in range(len(x)):\n",
    "    if x[i]==1 and y[i]==4:\n",
    "        print ('Found the match at index', i)"
   ]
  },
  {
   "cell_type": "code",
   "execution_count": null,
   "metadata": {},
   "outputs": [],
   "source": [
    "x = 1\n",
    "if x > 5:\n",
    "    print (\"Some nonsense here.\")\n",
    "    print (\"More nonsense.\")\n",
    "    print (\"You get the point.\")\n",
    "else:\n",
    "    print (\"x is not greater than 5.\")"
   ]
  },
  {
   "cell_type": "markdown",
   "metadata": {},
   "source": [
    "<a class=\"anchor\" id=\"try\"></a>\n",
    "## Try-Except Blocks"
   ]
  },
  {
   "cell_type": "markdown",
   "metadata": {},
   "source": [
    "Sometimes you need to run a loop of commands, but something in the loop generates an error that messes the whole thing up.  A good way to get around the problem is to use a **`Try-Except`** block.  This will allow you to safely run your code without crashing, and you can print helpful error messages for yourself and other users of your code. "
   ]
  },
  {
   "cell_type": "code",
   "execution_count": null,
   "metadata": {},
   "outputs": [],
   "source": [
    "x = [1, 2, 3, 4, 5]\n",
    "y = [4, 3, 2, 1, 0]\n",
    "\n",
    "for i in range(5):\n",
    "    try:\n",
    "        print (x[i]/y[i])\n",
    "    except: \n",
    "        print ('Error: Divide by zero')"
   ]
  },
  {
   "cell_type": "code",
   "execution_count": null,
   "metadata": {},
   "outputs": [],
   "source": []
  }
 ],
 "metadata": {
  "anaconda-cloud": {},
  "kernelspec": {
   "display_name": "Python 3",
   "language": "python",
   "name": "python3"
  },
  "language_info": {
   "codemirror_mode": {
    "name": "ipython",
    "version": 3
   },
   "file_extension": ".py",
   "mimetype": "text/x-python",
   "name": "python",
   "nbconvert_exporter": "python",
   "pygments_lexer": "ipython3",
   "version": "3.8.5"
  }
 },
 "nbformat": 4,
 "nbformat_minor": 4
}
