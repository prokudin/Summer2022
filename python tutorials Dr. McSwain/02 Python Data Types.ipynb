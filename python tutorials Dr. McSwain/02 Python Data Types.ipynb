{
 "cells": [
  {
   "cell_type": "markdown",
   "metadata": {},
   "source": [
    "# Python Tutorial 02 - Python Data Types\n",
    "## M. Virginia McSwain (Lehigh University; mcswain@lehigh.edu)"
   ]
  },
  {
   "cell_type": "markdown",
   "metadata": {},
   "source": [
    "## Table of contents\n",
    "* [Numbers](#numbers)\n",
    "* [Strings](#strings)\n",
    "* [Lists](#lists)\n",
    "* [Tupels](#tupels)\n",
    "* [Dictionaries](#dictionaries)\n",
    "* [Sorting Lists and the Zip Command](#sorting)\n",
    "* [Using External Packages](#packages)\n",
    "* [NumPy Arrays](#arrays)\n",
    "* [Formatting Print Output](#format)"
   ]
  },
  {
   "cell_type": "markdown",
   "metadata": {},
   "source": [
    "This notebook covers several basic functionalities that will get you up and running with some simple Python procedures.  \n",
    "\n",
    "There are 5 standard data types in Python: numbers, strings, lists, tupels, and dictionaries.  Python usage is *greatly* expanded with the use of external packages and additional data types that add nearly infinite potential.  The **`NumPy`** (Numerical Python) package is one of the most commonly used packages for scientific computing. "
   ]
  },
  {
   "cell_type": "markdown",
   "metadata": {},
   "source": [
    "<a class=\"anchor\" id=\"numbers\"></a>\n",
    "## Numbers"
   ]
  },
  {
   "cell_type": "markdown",
   "metadata": {},
   "source": [
    "There are 4 types of *numbers*:\n",
    "\n",
    "* **Int** (signed integer)\n",
    "    \n",
    "    Examples:  10, 1000, -786\n",
    "\n",
    "\n",
    "* **Long** (long integers)\n",
    "\n",
    "    Examples:  51924361L, -786L\n",
    "\n",
    "\n",
    "* **Float** (floating point real values)\n",
    "\n",
    "    Examples:  0.0, -21.935, -100.\n",
    "\n",
    "\n",
    "* **Complex** (complex numbers; a + bj)\n",
    "\n",
    "    Examples:  3.14j, 0.786 + 0j\n"
   ]
  },
  {
   "cell_type": "code",
   "execution_count": null,
   "metadata": {},
   "outputs": [],
   "source": [
    "a = 2\n",
    "b = 4.99\n",
    "c = 4.1 + 0j\n",
    "print (a, b, c)"
   ]
  },
  {
   "cell_type": "markdown",
   "metadata": {},
   "source": [
    "You can do simple numerical calculations with the *numbers* data type."
   ]
  },
  {
   "cell_type": "code",
   "execution_count": null,
   "metadata": {},
   "outputs": [],
   "source": [
    "x = 1\n",
    "y = 2\n",
    "z = x+y\n",
    "print (z)\n",
    "print (z*y)\n",
    "print (z**y)   # The double asterisk (**) is the code for an exponent in Python.\n",
    "print (x/y)"
   ]
  },
  {
   "cell_type": "markdown",
   "metadata": {},
   "source": [
    "### Try it now!  \n",
    "\n",
    "Add a cell below and try your own operations (multiply, divide, add, subtract, powers, and parenthesis):"
   ]
  },
  {
   "cell_type": "markdown",
   "metadata": {},
   "source": [
    "<a class=\"anchor\" id=\"strings\"></a>\n",
    "## Strings"
   ]
  },
  {
   "cell_type": "markdown",
   "metadata": {},
   "source": [
    "A *string* is a sequence of characters that may include letters, numbers, and special characters.  \n",
    "\n",
    "Strings are immutable, meaning that you cannot change them later without overwriting them completely. \n",
    "\n",
    "Either single or double quotes can be used to enclose strings.  If your string contains single or double quotes, you can accommodate this."
   ]
  },
  {
   "cell_type": "code",
   "execution_count": null,
   "metadata": {},
   "outputs": [],
   "source": [
    "a = 'Hello world!'\n",
    "b = \"isn't\"\n",
    "c = \"I want \\\"double quotes\\\" and \\'single quotes\\' inside my string!\"\n",
    "print (a)\n",
    "print (b)\n",
    "print (c)"
   ]
  },
  {
   "cell_type": "markdown",
   "metadata": {},
   "source": [
    "You can use triple quotes to break a string across multiple lines."
   ]
  },
  {
   "cell_type": "code",
   "execution_count": null,
   "metadata": {},
   "outputs": [],
   "source": [
    "a = '''This is an example \n",
    "      of a multi-line string.'''\n",
    "print (a)"
   ]
  },
  {
   "cell_type": "code",
   "execution_count": null,
   "metadata": {
    "scrolled": true
   },
   "outputs": [],
   "source": [
    "# You can concatenate two strings by adding them together.\n",
    "a = \"This is the first part, \"\n",
    "b = \"and this is the second.\"\n",
    "print (a+b)"
   ]
  },
  {
   "cell_type": "markdown",
   "metadata": {},
   "source": [
    "You can access (but not change) any element of a string using the concept of **index numbers**. \n",
    "\n",
    "<img src = \"Example Data Files/index_numbers.jpg\">"
   ]
  },
  {
   "cell_type": "code",
   "execution_count": null,
   "metadata": {},
   "outputs": [],
   "source": [
    "# Find the occurrence of the letter ‘e’ in the string and return its index number\n",
    "a = \"Hello\"\n",
    "a.find('e')"
   ]
  },
  {
   "cell_type": "code",
   "execution_count": null,
   "metadata": {},
   "outputs": [],
   "source": [
    "# Print the character at the index position 4\n",
    "a[4]"
   ]
  },
  {
   "cell_type": "markdown",
   "metadata": {},
   "source": [
    "You can also use a range of indices to make a **slice** of part of a string. Note that the slice does not change the original string, so if you want to save the slice, you should define it as a new variable."
   ]
  },
  {
   "cell_type": "code",
   "execution_count": null,
   "metadata": {},
   "outputs": [],
   "source": [
    "# Start a slice at index 1 and goes up to (but not including) index 3\n",
    "b = a[1:3]"
   ]
  },
  {
   "cell_type": "code",
   "execution_count": null,
   "metadata": {},
   "outputs": [],
   "source": [
    "# Start slice at index 1 and automatically go to end\n",
    "b = a[1:]"
   ]
  },
  {
   "cell_type": "code",
   "execution_count": null,
   "metadata": {},
   "outputs": [],
   "source": [
    "# Slice from beginning to end\n",
    "b = a[:]"
   ]
  },
  {
   "cell_type": "code",
   "execution_count": null,
   "metadata": {},
   "outputs": [],
   "source": [
    "# Equivalent to a[1:3]\n",
    "b = a[-4:-2]"
   ]
  },
  {
   "cell_type": "code",
   "execution_count": null,
   "metadata": {},
   "outputs": [],
   "source": [
    "# Omit the last 3 characters\n",
    "b = a[:-3]"
   ]
  },
  {
   "cell_type": "code",
   "execution_count": null,
   "metadata": {},
   "outputs": [],
   "source": [
    "# Return only the last 3 characters\n",
    "b = a[-3:]"
   ]
  },
  {
   "cell_type": "code",
   "execution_count": null,
   "metadata": {},
   "outputs": [],
   "source": [
    "# We cannot delete or remove characters from a string. \n",
    "# But deleting the string entirely is possible using the keyword del.\n",
    "del a\n",
    "print (a)  # This will cause an error since a was just deleted!"
   ]
  },
  {
   "cell_type": "markdown",
   "metadata": {},
   "source": [
    "There are many ways to manipulate strings in Python that you might find useful.  "
   ]
  },
  {
   "cell_type": "code",
   "execution_count": null,
   "metadata": {},
   "outputs": [],
   "source": [
    "a = ['ccc', 'aaaa', 'd', 'bb']\n",
    "\n",
    "# Join the strings in list a using colon delimiter\n",
    "b = ':'.join(a)\n",
    "print (b)"
   ]
  },
  {
   "cell_type": "code",
   "execution_count": null,
   "metadata": {},
   "outputs": [],
   "source": [
    "# Join the strings in list a using newline delimiter\n",
    "c = '\\n'.join(a)\n",
    "print (c)"
   ]
  },
  {
   "cell_type": "code",
   "execution_count": null,
   "metadata": {},
   "outputs": [],
   "source": [
    "# Split the string b at each colon delimiter\n",
    "# Note: this will produce a list of strings!  See below for more info about lists.\n",
    "d = b.split(':')\n",
    "print (d)"
   ]
  },
  {
   "cell_type": "code",
   "execution_count": null,
   "metadata": {},
   "outputs": [],
   "source": [
    "# Find the length of a string\n",
    "a = 'Hello, world!'\n",
    "print (len(a))"
   ]
  },
  {
   "cell_type": "markdown",
   "metadata": {},
   "source": [
    "### Try it now! \n",
    "\n",
    "A comma-separated value (csv) formatted table functions like a primitive version of a spreadsheet, and it's a common data format used in astrophysics since it doesn't require proprietary software (eg. Microsoft Excel).\n",
    "\n",
    "Imagine that you have a directory that is formatted as a csv file, and your string represents a single row from the file.  Use the ``split`` command to split the string into variables that represent each column.\n",
    "\n",
    "| Name | Phone | Office |\n",
    "|:-:|:-|:-:|\n",
    "| Prof. McSwain | 610-758-5322 | LL 405 |"
   ]
  },
  {
   "cell_type": "code",
   "execution_count": null,
   "metadata": {},
   "outputs": [],
   "source": [
    "row = \"'Prof.McSwain', '8-5322', 'LL 405'\"\n",
    "\n",
    "#name = \n",
    "#phone = \n",
    "#office = "
   ]
  },
  {
   "cell_type": "markdown",
   "metadata": {},
   "source": [
    "<a class=\"anchor\" id=\"lists\"></a>\n",
    "## Lists"
   ]
  },
  {
   "cell_type": "markdown",
   "metadata": {},
   "source": [
    "*Lists* always appear in **square brackets**.  Any data type can be used within a list, and there is no requirement that items in a single list have the same data type.  Lists are mutable (can be changed)."
   ]
  },
  {
   "cell_type": "code",
   "execution_count": null,
   "metadata": {},
   "outputs": [],
   "source": [
    "a = [1,2,3]\n",
    "b = [1, 2, 'aaa']"
   ]
  },
  {
   "cell_type": "code",
   "execution_count": null,
   "metadata": {},
   "outputs": [],
   "source": [
    "# Note that adding 2 lists concatenates them.  It does *not* do mathematical addition on them.\n",
    "c = [4,5,6]\n",
    "d = a + c\n",
    "print (d)"
   ]
  },
  {
   "cell_type": "code",
   "execution_count": null,
   "metadata": {},
   "outputs": [],
   "source": [
    "# You can also append a new value to the end of the list.\n",
    "d.append(7)\n",
    "print (d)"
   ]
  },
  {
   "cell_type": "code",
   "execution_count": null,
   "metadata": {},
   "outputs": [],
   "source": [
    "# Change the value of index 0 in the list d\n",
    "d[0] = 12\n",
    "print (d)"
   ]
  },
  {
   "cell_type": "code",
   "execution_count": null,
   "metadata": {},
   "outputs": [],
   "source": [
    "# You can delete an index from the list either of two ways:\n",
    "d.pop(0)\n",
    "print (d)\n",
    "\n",
    "del c[2]\n",
    "print (c)"
   ]
  },
  {
   "cell_type": "code",
   "execution_count": null,
   "metadata": {},
   "outputs": [],
   "source": [
    "# Reverse the list\n",
    "a = [1, 2, 3, 4, 5]\n",
    "a[::-1]"
   ]
  },
  {
   "cell_type": "code",
   "execution_count": null,
   "metadata": {},
   "outputs": [],
   "source": [
    "# What happens when you try mathematical operations on a list?\n",
    "test = [1, 2, 3]\n",
    "print (test*2)"
   ]
  },
  {
   "cell_type": "code",
   "execution_count": null,
   "metadata": {},
   "outputs": [],
   "source": [
    "# You can also select a slice from a list, just as you can with a string.\n",
    "print (d[3:5])"
   ]
  },
  {
   "cell_type": "markdown",
   "metadata": {},
   "source": [
    "<a class=\"anchor\" id=\"tupels\"></a>\n",
    "## Tupels"
   ]
  },
  {
   "cell_type": "markdown",
   "metadata": {},
   "source": [
    "*Tuples* are similar to lists, except enclosed within **parentheses** instead of brackets.  Like strings, they are immutable (cannot be updated).  In this way, tupels act like read-only lists."
   ]
  },
  {
   "cell_type": "code",
   "execution_count": null,
   "metadata": {},
   "outputs": [],
   "source": [
    "a = (1, 2, 3)\n",
    "#a[0] = 13         # doesn’t work, cannot change an element of a\n",
    "print (a[0])\n",
    "a = (2, 3, 4)      # have to overwrite a in order to change it"
   ]
  },
  {
   "cell_type": "markdown",
   "metadata": {},
   "source": [
    "It is possible to make a list of tupels that can be used for sorting or other manipulation."
   ]
  },
  {
   "cell_type": "code",
   "execution_count": null,
   "metadata": {},
   "outputs": [],
   "source": [
    "a = [(1, 'b'), (3, 'a'), (2, 'a'), (1, 'a')]"
   ]
  },
  {
   "cell_type": "markdown",
   "metadata": {},
   "source": [
    "Tuples are often used to associate a fixed number of elements that are related.  Some examples might be storing a set of (x, y, z) coordinates or making a phone book. "
   ]
  },
  {
   "cell_type": "code",
   "execution_count": null,
   "metadata": {},
   "outputs": [],
   "source": [
    "tel = [('Ginny McSwain', '610-758-5322'), ('Physics Dept', '610-758-3930'), ('Dean of CAS', '610-758-4570')]\n",
    "sorted(tel)"
   ]
  },
  {
   "cell_type": "markdown",
   "metadata": {},
   "source": [
    "A list of tupels can be changed.  (It is the list that is changing, not the tupels itself.)"
   ]
  },
  {
   "cell_type": "code",
   "execution_count": null,
   "metadata": {},
   "outputs": [],
   "source": [
    "tel[0]=('HELP Desk', '610-758-HELP')\n",
    "print (tel)\n",
    "new = ('Ginny McSwain', '610-758-5322')\n",
    "tel.append(new)\n",
    "print (tel)"
   ]
  },
  {
   "cell_type": "code",
   "execution_count": null,
   "metadata": {},
   "outputs": [],
   "source": [
    "test = (1, 2, 3)\n",
    "test2 = (4, 5, 6)\n",
    "result = test+test2\n",
    "print (result)"
   ]
  },
  {
   "cell_type": "markdown",
   "metadata": {},
   "source": [
    "### Try it now! \n",
    "\n",
    "Using a list of coordinate pairs, assign the first x value and first y value each to their own new variable."
   ]
  },
  {
   "cell_type": "code",
   "execution_count": null,
   "metadata": {},
   "outputs": [],
   "source": [
    "coords = [ (1, 2), (3,4), (5,6), (7,8) ]\n",
    "\n",
    "#x1 =                # write a function to return the value 1 from the list\n",
    "#y1 =                # write a function to return the value 2"
   ]
  },
  {
   "cell_type": "markdown",
   "metadata": {},
   "source": [
    "<a class=\"anchor\" id=\"dictionaries\"></a>\n",
    "## Dictionaries"
   ]
  },
  {
   "cell_type": "markdown",
   "metadata": {},
   "source": [
    "Lists and strings are indexed by numbers, but **dictionaries** are indexed by **keys** and are defined by curly brackets:\n",
    "\n",
    "```\n",
    "Dict = {key: value}\n",
    "```\n",
    "\n",
    "Keys may be strings or numbers, and even sometimes tuples (as long as the tuple is immutable).  Keys may not be lists since lists are mutable.\n",
    "\n",
    "Within one dictionary, the keys must be unique.  There may be more than one key:value pair. \n",
    "\n",
    "```\n",
    "Dict1 = {‘Class’: ‘ASTR 302’, ‘Professor’: ‘McSwain’}\n",
    "Dict2 = {‘Class’: ‘ASTR 105’, ‘Professor’: ‘Pepper’}\n",
    "```\n",
    "\n",
    "Personally, I don't encounter dictionaries very often in Python computing, but I think they are common in certain applications (especially databases).  We will use them in Tutorial 6 to save new data to a spreadsheet format."
   ]
  },
  {
   "cell_type": "code",
   "execution_count": null,
   "metadata": {},
   "outputs": [],
   "source": [
    "tel = {'Jill': 81234, 'Jack': 82345, 'Anne': 89876, 'Andy': 80345}\n",
    "\n",
    "# Print the dictionary tel\n",
    "tel"
   ]
  },
  {
   "cell_type": "code",
   "execution_count": null,
   "metadata": {},
   "outputs": [],
   "source": [
    "# Return Anne's number\n",
    "tel['Anne']"
   ]
  },
  {
   "cell_type": "code",
   "execution_count": null,
   "metadata": {},
   "outputs": [],
   "source": [
    "# Change Jack's number\n",
    "tel['Jack'] = 12345"
   ]
  },
  {
   "cell_type": "code",
   "execution_count": null,
   "metadata": {},
   "outputs": [],
   "source": [
    "# Add Sam to the telephone directory\n",
    "tel['Sam'] = 87654"
   ]
  },
  {
   "cell_type": "code",
   "execution_count": null,
   "metadata": {},
   "outputs": [],
   "source": [
    "# Delete Jill's entry\n",
    "del tel['Jill']"
   ]
  },
  {
   "cell_type": "code",
   "execution_count": null,
   "metadata": {},
   "outputs": [],
   "source": [
    "# Return all of the keys in Tel\n",
    "tel.keys()"
   ]
  },
  {
   "cell_type": "code",
   "execution_count": null,
   "metadata": {},
   "outputs": [],
   "source": [
    "# Test whether Sam is a key in Tel (1 if true, 0 if false)\n",
    "'Sam' in tel"
   ]
  },
  {
   "cell_type": "markdown",
   "metadata": {},
   "source": [
    "Dictionaries may also have more than one value per key."
   ]
  },
  {
   "cell_type": "code",
   "execution_count": null,
   "metadata": {},
   "outputs": [],
   "source": [
    "tel = {'Jenny': [5558675309, 6108675309]}\n",
    "tel['Jenny']\n",
    "#tel['Jenny'][1]       # returns index 1 from the list of values"
   ]
  },
  {
   "cell_type": "markdown",
   "metadata": {},
   "source": [
    "<a class=\"anchor\" id=\"sorting\"></a>\n",
    "## Sorting Lists and the Zip Command"
   ]
  },
  {
   "cell_type": "markdown",
   "metadata": {},
   "source": [
    "A common task in programming is to sort lists of items.  By default, sorting a list will place them in increasing numeric (or alphabetic) order, but there are other sorting keys that you might choose to use.  Reverse sorting is easy, too.  Here are a few simple examples."
   ]
  },
  {
   "cell_type": "code",
   "execution_count": null,
   "metadata": {},
   "outputs": [],
   "source": [
    "a = [4, 2, 1, 6]\n",
    "sorted(a)\n",
    "#help(sorted)               # view optional features"
   ]
  },
  {
   "cell_type": "code",
   "execution_count": 1,
   "metadata": {},
   "outputs": [
    {
     "ename": "NameError",
     "evalue": "name 'a' is not defined",
     "output_type": "error",
     "traceback": [
      "\u001b[0;31m---------------------------------------------------------------------------\u001b[0m",
      "\u001b[0;31mNameError\u001b[0m                                 Traceback (most recent call last)",
      "\u001b[0;32m<ipython-input-1-6f8818c96b31>\u001b[0m in \u001b[0;36m<module>\u001b[0;34m\u001b[0m\n\u001b[1;32m      1\u001b[0m \u001b[0;31m# Reverse sort\u001b[0m\u001b[0;34m\u001b[0m\u001b[0;34m\u001b[0m\u001b[0;34m\u001b[0m\u001b[0m\n\u001b[0;32m----> 2\u001b[0;31m \u001b[0msorted\u001b[0m\u001b[0;34m(\u001b[0m\u001b[0ma\u001b[0m\u001b[0;34m,\u001b[0m \u001b[0mreverse\u001b[0m\u001b[0;34m=\u001b[0m\u001b[0;32mTrue\u001b[0m\u001b[0;34m)\u001b[0m\u001b[0;34m\u001b[0m\u001b[0;34m\u001b[0m\u001b[0m\n\u001b[0m",
      "\u001b[0;31mNameError\u001b[0m: name 'a' is not defined"
     ]
    }
   ],
   "source": [
    "# Reverse sort\n",
    "sorted(a, reverse=True)"
   ]
  },
  {
   "cell_type": "markdown",
   "metadata": {},
   "source": [
    "You can custom sort using any attribute of your list that can be pulled from built-in Python functions.  For example, you can sort a list of strings according to their lengths."
   ]
  },
  {
   "cell_type": "code",
   "execution_count": null,
   "metadata": {},
   "outputs": [],
   "source": [
    "a = ['ccc', 'aaaa', 'd', 'bb']\n",
    "sorted(a, key=len)    # sorts using the built-in function len as the sorting key"
   ]
  },
  {
   "cell_type": "markdown",
   "metadata": {},
   "source": [
    "You can even define your own sort key!  For example, let's sort a list of strings alphabetically by the last element. "
   ]
  },
  {
   "cell_type": "code",
   "execution_count": null,
   "metadata": {},
   "outputs": [],
   "source": [
    "def Last(s):\n",
    "    return s[-1]\n",
    "\n",
    "a = ['ccc', 'aaaz', 'd', 'bb']\n",
    "sorted(a, key=Last)"
   ]
  },
  {
   "cell_type": "markdown",
   "metadata": {},
   "source": [
    "You can sort a list of tupels, too.  By default, **`sorted`** will sort by the first element then the second.  "
   ]
  },
  {
   "cell_type": "code",
   "execution_count": null,
   "metadata": {},
   "outputs": [],
   "source": [
    "a = [(1, 'b'), (3, 'a'), (2, 'a'), (1, 'a')]\n",
    "sorted(a)   "
   ]
  },
  {
   "cell_type": "code",
   "execution_count": null,
   "metadata": {},
   "outputs": [],
   "source": [
    "a = [(5, 'b'), (2, 'a'), (3, 'e'), (1, 'c'), (7, 'd')]\n",
    "sorted(a)"
   ]
  },
  {
   "cell_type": "markdown",
   "metadata": {},
   "source": [
    "You can also sort tuples on the second element alone."
   ]
  },
  {
   "cell_type": "code",
   "execution_count": null,
   "metadata": {},
   "outputs": [],
   "source": [
    "def takeSecond(elem):\n",
    "    return elem[1]\n",
    "\n",
    "a = [(1, 'b'), (2, 'a'), (3, 'e'), (5, 'c'), (7, 'd')]\n",
    "sorted(a, key=takeSecond)"
   ]
  },
  {
   "cell_type": "markdown",
   "metadata": {},
   "source": [
    "### Zipping two related lists\n",
    "\n",
    "Let's say you have 2 separate lists that need to be sorted together (such as x and y coordinate pairs).  Python has a function called `zip` that will link them as a tupel, and then you can sort them. "
   ]
  },
  {
   "cell_type": "code",
   "execution_count": null,
   "metadata": {},
   "outputs": [],
   "source": [
    "x = [1, 5, 1, 9]\n",
    "y = [1, 25, 9, 81]\n",
    "coordlist = zip(x, y)\n",
    "newlist = sorted(coordlist)\n",
    "print (newlist)"
   ]
  },
  {
   "cell_type": "markdown",
   "metadata": {},
   "source": [
    "You can also \"unzip\" the tupel.  Here, we'll unzip the newly sorted lists of x and y values into new lists."
   ]
  },
  {
   "cell_type": "code",
   "execution_count": null,
   "metadata": {},
   "outputs": [],
   "source": [
    "x2, y2 = zip(*newlist)\n",
    "print (x2)\n",
    "print (y2)"
   ]
  },
  {
   "cell_type": "markdown",
   "metadata": {},
   "source": [
    "<a class=\"anchor\" id=\"packages\"></a>\n",
    "## Using External Packages"
   ]
  },
  {
   "cell_type": "markdown",
   "metadata": {},
   "source": [
    "Most of the power of using Python comes from incorporating the wide assortment of open source packages that have been developed.  For scientific computing, the following packages are widely used (and come with Anaconda by default):\n",
    "* **`numpy`** (Numerical Python)\n",
    "* **`scipy`** (Scientific Python)\n",
    "* **`matplotlib`** (Gives you a MatLab-like environment)\n",
    "* **`pandas`** (A data analysis package)\n",
    "\n",
    "The following packages are a few have been developed specifically for professional and amateur astronomers:\n",
    "* **`astropy`** (A community Python library for Astronomy)\n",
    "* **`APLpy`** (Astronomical Plotting Library in Python)\n",
    "* **`astroquery`** (Query common astronomical datasets)\n",
    "* **`pyephem`** (Computes the positions of astronomical objects)\n",
    "* **`galpy`** (A Python library for Galactic dynamics)\n",
    "\n",
    "If you need to install a new package that you don't already have (say, **`time`**), Anaconda includes a program called **`pip`** that makes this easy!  Use JupyterLab's Launcher to start a terminal.  From the terminal command line, type: **`pip install time`** .  (Data Lab users, you probably need to contact the NOIRLab tech support to make the request.)\n"
   ]
  },
  {
   "cell_type": "code",
   "execution_count": 2,
   "metadata": {},
   "outputs": [],
   "source": [
    "import numpy as np"
   ]
  },
  {
   "cell_type": "code",
   "execution_count": null,
   "metadata": {},
   "outputs": [],
   "source": [
    "# Show all available commands in the numpy package (Warning: long output!)\n",
    "dir (np)"
   ]
  },
  {
   "cell_type": "code",
   "execution_count": null,
   "metadata": {},
   "outputs": [],
   "source": [
    "# Get the help file for numpy (VERY long output!!!)\n",
    "help(np.zeros)"
   ]
  },
  {
   "cell_type": "code",
   "execution_count": null,
   "metadata": {},
   "outputs": [],
   "source": [
    "# Get the help file for a specific numpy procedure\n",
    "help(np.zeros)"
   ]
  },
  {
   "cell_type": "markdown",
   "metadata": {},
   "source": [
    "<a class=\"anchor\" id=\"arrays\"></a>\n",
    "## NumPy Arrays"
   ]
  },
  {
   "cell_type": "markdown",
   "metadata": {},
   "source": [
    "For scientific computing, using lists of numbers isn't very practical since you can't use them for mathematical operations.  Instead, it's common to use numerical **arrays** using the **`numpy`** package. You will find that it's usually more efficient to use numpy arrays than lists of numbers."
   ]
  },
  {
   "cell_type": "code",
   "execution_count": null,
   "metadata": {},
   "outputs": [],
   "source": [
    "# Create an empty, one-dimensional array with 4 positions.\n",
    "a = np.zeros(4)\n",
    "print (a)"
   ]
  },
  {
   "cell_type": "code",
   "execution_count": null,
   "metadata": {},
   "outputs": [],
   "source": [
    "# Create an empty, 3x5 matrix. \n",
    "a = np.zeros( (3,5) )\n",
    "print (a)"
   ]
  },
  {
   "cell_type": "code",
   "execution_count": null,
   "metadata": {},
   "outputs": [],
   "source": [
    "# Create a numerical array from a list of numbers.\n",
    "a = np.array( [1., 2., 3.])\n",
    "print (a)\n",
    "print (a+1)"
   ]
  },
  {
   "cell_type": "code",
   "execution_count": null,
   "metadata": {},
   "outputs": [],
   "source": [
    "# Create an evenly spaced array of numbers between 1-10, spaced 0.1 apart.  \n",
    "# Note that the final value (10) is NOT included in the array.\n",
    "a = np.arange(1, 10.1, 0.1)\n",
    "print (a)"
   ]
  },
  {
   "cell_type": "code",
   "execution_count": null,
   "metadata": {},
   "outputs": [],
   "source": [
    "# Create an evenly spaced array of numbers between 1-10, with 15 steps.\n",
    "# Note that the final value IS included in this array.\n",
    "a = np.linspace(1, 10, 15)\n",
    "print (a)"
   ]
  },
  {
   "cell_type": "code",
   "execution_count": null,
   "metadata": {},
   "outputs": [],
   "source": [
    "# Convert an existing list of numbers to a numpy array\n",
    "x = [1, 2, 3, 4, 5]\n",
    "newx = np.array(x)"
   ]
  },
  {
   "cell_type": "markdown",
   "metadata": {},
   "source": [
    "**`Numpy`** includes lots of useful built in numerical features, including the very useful ability to determine where a certain condition is met using **`numpy.where`**.  (See also Tutorial 3 with the complete list of Boolean operators you can use here.)\n",
    "\n",
    "Consider a data set that has a large number of values, some of which might be flagged with a quality indicator.  A flag might indicate values of 0 are ok, but non-zero values have some inherent problem.  We want to retrieve only the good values and dismiss the others. "
   ]
  },
  {
   "cell_type": "code",
   "execution_count": 18,
   "metadata": {},
   "outputs": [
    {
     "name": "stdout",
     "output_type": "stream",
     "text": [
      "(array([0, 1, 4]),)\n",
      "[1 2 5]\n"
     ]
    }
   ],
   "source": [
    "x = np.array([1, 2, 3, 4, 5])\n",
    "flag = np.array([0, 0, 3, 4, 0])\n",
    "\n",
    "# This usage of np.where returns the indices where the flag is equal to 0. \n",
    "good = np.where(flag == 0)\n",
    "x_good = x[good]\n",
    "print (good)  # contains an array of indices\n",
    "print (x_good)  # print the results of the array at those indices"
   ]
  },
  {
   "cell_type": "markdown",
   "metadata": {},
   "source": [
    "Another way to use the **`numpy.where`** function is to return a particular value when a condition is true.  For example, let's return a value of 1 when the condition is true, and a value of 0 when it is not.  This is useful if you want to quickly count how many values meet the condition. "
   ]
  },
  {
   "cell_type": "code",
   "execution_count": 19,
   "metadata": {},
   "outputs": [
    {
     "name": "stdout",
     "output_type": "stream",
     "text": [
      "[0 0 1 1 1]\n",
      "3\n"
     ]
    }
   ],
   "source": [
    "x = np.array([1, 2, 3, 4, 5])\n",
    "large = np.where(x >= 3, 1, 0)\n",
    "print (large)\n",
    "\n",
    "howmany = np.sum(large)\n",
    "print (howmany)"
   ]
  },
  {
   "cell_type": "markdown",
   "metadata": {},
   "source": [
    "You can apply multiple conditions with **`numpy.where`**.  For example, consider the case of many points in a Cartesian plane, and you want to retrieve only the points within a given quadrant. "
   ]
  },
  {
   "cell_type": "code",
   "execution_count": 25,
   "metadata": {},
   "outputs": [
    {
     "name": "stdout",
     "output_type": "stream",
     "text": [
      "(array([0, 1, 2]),)\n"
     ]
    }
   ],
   "source": [
    "x = np.array([-3, -2, -1, 0, 1, 2, 3])\n",
    "y = np.array([5, 4, 3, 2, 1, 0, -1])\n",
    "keep = np.where((x < 0) & (y > 0))\n",
    "print (keep)"
   ]
  },
  {
   "cell_type": "markdown",
   "metadata": {},
   "source": [
    "Note that using **`numpy.where`** requires that the operand be in the **`numpy`** array format, so if you're using an ordinary list you will need to convert it.  This list could include strings, too!  For example:"
   ]
  },
  {
   "cell_type": "code",
   "execution_count": 29,
   "metadata": {},
   "outputs": [
    {
     "name": "stdout",
     "output_type": "stream",
     "text": [
      "(array([1]),)\n"
     ]
    }
   ],
   "source": [
    "x = np.array(['A', 'B', 'C'])\n",
    "print (np.where(x == 'B'))"
   ]
  },
  {
   "cell_type": "markdown",
   "metadata": {},
   "source": [
    "<a class=\"anchor\" id=\"format\"></a>\n",
    "## Formatting Print Output"
   ]
  },
  {
   "cell_type": "markdown",
   "metadata": {},
   "source": [
    "When you are printing results from some numerical calculation, it's often helpful to format your output for clarity.  You might want to align output into columns of specific width, or you may just want to limit the displayed results to a certain number of sig-figs.  Either way, Python offers several methods to do this. \n",
    "\n",
    "For starters, consider the following mathematical output (unformatted).  (I'm using a few simple **`for`** and **`while`** loops here, too...  More on these in the next tutorial!)"
   ]
  },
  {
   "cell_type": "code",
   "execution_count": null,
   "metadata": {},
   "outputs": [],
   "source": [
    "import numpy as np\n",
    "\n",
    "a = np.arange(1, 10, 1)\n",
    "b = 7\n",
    "for item in a:\n",
    "    c = item/b\n",
    "    print (c)"
   ]
  },
  {
   "cell_type": "markdown",
   "metadata": {},
   "source": [
    "I don't know about you, but my head hurts trying to read all those decimal places!\n",
    "\n",
    "The following code prints the calculation for the variable **`c`**, but now **`c`** is now formatted into a fixed-width column of 4 spaces (including the decimal) and 2 decimal places."
   ]
  },
  {
   "cell_type": "code",
   "execution_count": null,
   "metadata": {},
   "outputs": [],
   "source": [
    "a = np.arange(1, 10, 1)\n",
    "b = 7\n",
    "for item in a:\n",
    "    c = item/b\n",
    "    print ('{:4.2f}'.format(c))"
   ]
  },
  {
   "cell_type": "markdown",
   "metadata": {},
   "source": [
    "This can be particularly useful when printing output that might be combined with some text.  But consider the combination of strings and numbers below.  Without formatting the length of the string, we end up with output that is still difficult to read. "
   ]
  },
  {
   "cell_type": "code",
   "execution_count": null,
   "metadata": {},
   "outputs": [],
   "source": [
    "string = ['Betelgeuse', 'Rigel', 'Vega']\n",
    "a = [1, 2, 3]\n",
    "b = [7, 7, 7]\n",
    "\n",
    "i = 0\n",
    "while i < 3:\n",
    "    c = a[i]/b[i]\n",
    "    print (string[i], '{:4.2f}'.format(c))\n",
    "    i += 1"
   ]
  },
  {
   "cell_type": "markdown",
   "metadata": {},
   "source": [
    "If we specify a fixed-width of 12 spaces for the strings (s), and 4 spaces for the floating point values (f), we find the result is much easier to read. "
   ]
  },
  {
   "cell_type": "code",
   "execution_count": null,
   "metadata": {},
   "outputs": [],
   "source": [
    "string = ['Betelgeuse', 'Rigel', 'Vega']\n",
    "a = [1, 2, 3]\n",
    "b = [7, 7, 7]\n",
    "\n",
    "i = 0\n",
    "while i < 3:\n",
    "    c = a[i]/b[i]\n",
    "    print ('{:12s}{:4.2f}'.format(string[i], c))\n",
    "    i += 1"
   ]
  },
  {
   "cell_type": "code",
   "execution_count": null,
   "metadata": {},
   "outputs": [],
   "source": []
  }
 ],
 "metadata": {
  "anaconda-cloud": {},
  "kernelspec": {
   "display_name": "Python 3",
   "language": "python",
   "name": "python3"
  },
  "language_info": {
   "codemirror_mode": {
    "name": "ipython",
    "version": 3
   },
   "file_extension": ".py",
   "mimetype": "text/x-python",
   "name": "python",
   "nbconvert_exporter": "python",
   "pygments_lexer": "ipython3",
   "version": "3.8.5"
  }
 },
 "nbformat": 4,
 "nbformat_minor": 4
}
