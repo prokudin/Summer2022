{
 "cells": [
  {
   "cell_type": "markdown",
   "metadata": {},
   "source": [
    "# Python Tutorial 06 - Importing and Exporting Data Tables\n",
    "## M. Virginia McSwain (Lehigh University; mcswain@lehigh.edu)"
   ]
  },
  {
   "cell_type": "markdown",
   "metadata": {},
   "source": [
    "## Table of contents\n",
    "* [File Formats](#formats)\n",
    "* [Reading Data Files (Method 1 - Numeric data only)](#reading1)\n",
    "* [Reading Data Files (Method 2 - Mixture of numbers and text)](#reading2)\n",
    "* [Reading Data Files (Method 3 - Spreadsheets)](#reading3)\n",
    "* [Writing Data to a Text File](#writing)\n",
    "* [Writing Data to a Spreadsheet](#writing2)"
   ]
  },
  {
   "cell_type": "markdown",
   "metadata": {},
   "source": [
    "<a class=\"anchor\" id=\"formats\"></a>\n",
    "## File Formats"
   ]
  },
  {
   "cell_type": "markdown",
   "metadata": {},
   "source": [
    "You’ll often find the need to interpret large data tables, whether you're doing astronomy research or business data analytics.  Using a code like Python is an easy way to manage large data sets!\n",
    "\n",
    "Python can read in many file formats, and there are existing tools to handle every format imaginable.  Common spreadsheet data might be in Microsoft Excel (.xlsx) or a \"comma separated value\" (.csv) format.  Professional astronomers often share images or tables within the Flexible Image Transport System (.fits) format.  The possibilities are nearly endless!  We will not discuss all of these formats today, but it helps to know that they exist and that there are tools for handling them in Python. \n",
    "\n",
    "Generally the simplest file format is plain text (often called ascii, UniCode, or .txt files).  These are easily readable but unformatted - no fancy fonts or special features.  Data tables in the plain text format usually use spaces to separate columns of fixed-width data. (Warning: historically it was bad practice to use tabs to separate data columns in plain text.)\n",
    "\n",
    "Notepad (Windows) and TextEdit (Mac) are common programs to read and edit text files.  Make sure you turn off any formatting features (these tend to produce hidden characters that will screw up your code) and save your work as plain text.  \n"
   ]
  },
  {
   "cell_type": "markdown",
   "metadata": {},
   "source": [
    "<a class=\"anchor\" id=\"reading1\"></a>\n",
    "## Reading Text Files (Method 1 - Numeric data only)"
   ]
  },
  {
   "cell_type": "markdown",
   "metadata": {},
   "source": [
    "Open the file ‘sampledata.txt’ with your preferred text editor program...  Inspect the file to see how the plain text is formatted.\n",
    "\n",
    "In this file, there are only 2 columns of numbers.  There is no text header with any explanation.  \n",
    "\n",
    "Below, we will use Python to open the file and import the data."
   ]
  },
  {
   "cell_type": "code",
   "execution_count": 1,
   "metadata": {},
   "outputs": [
    {
     "data": {
      "image/png": "[encoded data removed]",
      "text/plain": [
       "<Figure size 432x288 with 1 Axes>"
      ]
     },
     "metadata": {
      "needs_background": "light"
     },
     "output_type": "display_data"
    }
   ],
   "source": [
    "import numpy as np\n",
    "import matplotlib.pyplot as plt\n",
    "\n",
    "# if necessary, go to the directory where the file is saved\n",
    "dir = 'Example Data Files/'  # use your own directory\n",
    "\n",
    "# read in the text file\n",
    "data = np.loadtxt(dir+'sampledata.txt')\n",
    "x=data[:,0]     # saves the first column to variable x\n",
    "y=data[:,1]\n",
    "plt.plot(x,y)\n",
    "plt.show()\n"
   ]
  },
  {
   "cell_type": "markdown",
   "metadata": {},
   "source": [
    "<a class=\"anchor\" id=\"reading2\"></a>\n",
    "## Reading Text Files (Method 2 - Mixture of numbers and text)"
   ]
  },
  {
   "cell_type": "markdown",
   "metadata": {},
   "source": [
    "Open the file ‘sampleascii.txt’ with your preferred text editor program...\n",
    "\n",
    "In this file, the first 4 rows are dedicated to a brief explanation of the file's contents.  These informational rows are called \"headers\".  \n",
    "\n",
    "When there is a mixture of numbers and letters within a data table, you may need to parse the data differently than if there are only numbers.  This technique will work for such a mixture."
   ]
  },
  {
   "cell_type": "code",
   "execution_count": 2,
   "metadata": {},
   "outputs": [
    {
     "name": "stdout",
     "output_type": "stream",
     "text": [
      "Here, x is saved as a list of floats:\n",
      "[-4.533994, -4.52923, -4.519698, -4.500647, -4.462521, -4.386192, -4.238417, -4.090806, -3.943237, -3.795703, -3.648205, -3.500749, -3.353314, -3.205885, -3.058445, -2.910941, -2.763346, -2.615244, -2.4673, -2.320107, -2.173091, -2.036905, -1.929798, -1.842859, -1.769753, -1.706534, -1.65076, -1.601197, -1.560947, -1.530602, -1.503803, -1.477004, -1.436723, -1.373847, -1.283611, -1.1598, -1.011298, -0.8637096, -0.7162447, -0.5688584, -0.4215158, -0.2741887, -0.1268464, 0.02056348, 0.1680442, 0.3156238, 0.4632857, 0.6108858, 0.7583441, 0.9056986, 1.052996, 1.200277, 1.34763, 1.494999, 1.642249, 1.790529, 1.910507, 1.962778, 1.988894, 1.997593]\n",
      "\n",
      "Here, z is saved as a list of strings:\n",
      "['7.608605E-01', '7.618946E-01', '7.639828E-01', '7.682432E-01', '7.771487E-01', '7.969704E-01', '8.457529E-01', '9.111671E-01', '9.896839E-01', '1.069130E+00', '1.139061E+00', '1.200021E+00', '1.259209E+00', '1.318697E+00', '1.376097E+00', '1.430192E+00', '1.480172E+00', '1.538464E+00', '1.617575E+00', '1.715756E+00', '1.839999E+00', '2.018506E+00', '2.138396E+00', '2.187628E+00', '2.198544E+00', '2.219570E+00', '2.253896E+00', '2.279392E+00', '2.283559E+00', '2.276838E+00', '2.269072E+00', '2.264620E+00', '2.261199E+00', '2.257880E+00', '2.260343E+00', '2.277446E+00', '2.314012E+00', '2.365913E+00', '2.433818E+00', '2.519069E+00', '2.622486E+00', '2.743917E+00', '2.882469E+00', '3.036411E+00', '3.204070E+00', '3.391683E+00', '3.608863E+00', '3.860888E+00', '4.150022E+00', '4.478061E+00', '4.847339E+00', '5.260447E+00', '5.720189E+00', '6.228557E+00', '6.788146E+00', '7.407459E+00', '7.953355E+00', '8.204869E+00', '8.333645E+00', '8.377068E+00']\n"
     ]
    },
    {
     "data": {
      "image/png": "[encoded data removed]",
      "text/plain": [
       "<Figure size 432x288 with 1 Axes>"
      ]
     },
     "metadata": {
      "needs_background": "light"
     },
     "output_type": "display_data"
    }
   ],
   "source": [
    "# import packages as necessary\n",
    "import numpy as np\n",
    "import matplotlib.pyplot as plt\n",
    "\n",
    "# Open file\n",
    "dir = 'Example Data Files/'\n",
    "f = open (dir+'sampleascii.txt', 'r')\n",
    "\n",
    "# If the file has header lines, skip them...  (This file has 4 lines of headers.)\n",
    "# If there are many lines of headers, it might be preferable to do this in a loop instead.\n",
    "header1 = f.readline()\n",
    "header2 = f.readline()\n",
    "header3 = f.readline()\n",
    "header4 = f.readline()\n",
    "\n",
    "\n",
    "# Create blank lists to hold the data values\n",
    "x=[]\n",
    "y=[]\n",
    "z=[]\n",
    "another_variable=[]\n",
    "\n",
    "# Loop over lines and extract variables of interest.  \n",
    "# Note that numerical data might be imported as a string, so convert to a floating point if necessary.\n",
    "for line in f:\n",
    "    line = line.strip()\n",
    "    columns = line.split()\n",
    "    x.append(float(columns[0]))\n",
    "    y.append(float(columns[1]))\n",
    "    z.append(columns[2])          # z was not converted to a float\n",
    "    another_variable.append(columns[3])\n",
    "\n",
    "    \n",
    "f.close()\n",
    "\n",
    "print (\"Here, x is saved as a list of floats:\")\n",
    "print (x)\n",
    "print (\"\")\n",
    "print (\"Here, z is saved as a list of strings:\")\n",
    "print (z)\n",
    "\n",
    "# plot the 2 data columns\n",
    "plt.plot(x, y)\n",
    "plt.show()"
   ]
  },
  {
   "cell_type": "markdown",
   "metadata": {},
   "source": [
    "<a class=\"anchor\" id=\"reading3\"></a>\n",
    "## Reading Data Files (Method 3 - Spreadsheets/csv files)"
   ]
  },
  {
   "cell_type": "markdown",
   "metadata": {},
   "source": [
    "Since Python is far more powerful than Excel, you may find it useful to open up spreadsheets in this environment using the ``Pandas`` package.  Here is a link to <a href=\"https://pandas.pydata.org/pandas-docs/stable/getting_started/tutorials.html\">a more complete tutorial on using pandas</a>.  The ``Pandas`` package should also come pre-installed with your Anaconda distribution!\n",
    "\n",
    "Note that .csv (comma separated value) files are a commonly used format for spreadsheets since they are not proprietary to a particular software package (eg. Microsoft Excel).  You can always convert a .xlsx file to the .csv format if necessary."
   ]
  },
  {
   "cell_type": "code",
   "execution_count": 3,
   "metadata": {},
   "outputs": [
    {
     "name": "stdout",
     "output_type": "stream",
     "text": [
      "     Feature_Name Target  Diameter (km)  Center_Latitude  Center_Longitude  \\\n",
      "0            Abbe   Moon          63.98           -57.58            174.77   \n",
      "1           Abbot   Moon          10.40             5.56             54.74   \n",
      "2         [Abduh]   Moon           0.00            14.70             39.00   \n",
      "3            Abel   Moon         137.35           -34.63             85.78   \n",
      "4        Abenezra   Moon          43.19           -20.99             11.89   \n",
      "...           ...    ...            ...              ...               ...   \n",
      "1614      Zöllner   Moon          47.69            -7.97             18.90   \n",
      "1615    Zsigmondy   Moon          66.88            59.52           -105.30   \n",
      "1616     Zucchius   Moon          63.18           -61.38            -50.65   \n",
      "1617        Zupus   Moon          35.29           -17.18            -52.37   \n",
      "1618       Zwicky   Moon         126.06           -16.17            167.64   \n",
      "\n",
      "                      Coordinate_System Approval_Status Approval_Date  \\\n",
      "0     Planetographic  +East  -180 - 180        Approved          1970   \n",
      "1     Planetographic  +East  -180 - 180        Approved          1973   \n",
      "2     Planetographic  +East  -180 - 180    Not Approved                 \n",
      "3     Planetographic  +East  -180 - 180        Approved          1964   \n",
      "4     Planetographic  +East  -180 - 180        Approved          1935   \n",
      "...                                 ...             ...           ...   \n",
      "1614  Planetographic  +East  -180 - 180        Approved          1935   \n",
      "1615  Planetographic  +East  -180 - 180        Approved          1976   \n",
      "1616  Planetographic  +East  -180 - 180        Approved          1935   \n",
      "1617  Planetographic  +East  -180 - 180        Approved          1935   \n",
      "1618  Planetographic  +East  -180 - 180        Approved          1979   \n",
      "\n",
      "                                                 Origin  \n",
      "0     Ernst Karl; German optician, physicist, astron...  \n",
      "1     Charles Greeley; American astrophysicist (1872...  \n",
      "2                Mohammed; Egyptian writer (1849-1905).  \n",
      "3     Niels Henrik; Norwegian mathematician (1802-18...  \n",
      "4     Abraham ben Meir Ibn Ezra; Spanish mathematici...  \n",
      "...                                                 ...  \n",
      "1614  Johann Karl Friedrich; German astrophysicist, ...  \n",
      "1615  Richard Adolf; Austrian chemist; Nobel laureat...  \n",
      "1616  Zucchi, Niccolo; Italian mathematician, astron...  \n",
      "1617  Zupi, Giovanni Battista; Italian astronomer (c...  \n",
      "1618           Fritz; Swiss astrophysicist (1898-1974).  \n",
      "\n",
      "[1619 rows x 9 columns]\n"
     ]
    }
   ],
   "source": [
    "import numpy as np\n",
    "import matplotlib.pyplot as plt\n",
    "import pandas as pd\n",
    "\n",
    "dir = 'Example Data Files/'\n",
    "dataset = pd.read_csv(dir+'mooncraters.csv')\n",
    "print (dataset)"
   ]
  },
  {
   "cell_type": "markdown",
   "metadata": {},
   "source": [
    "Save your column of interest as a variable for further analysis...  All you need is the column header from the spreadsheet!"
   ]
  },
  {
   "cell_type": "code",
   "execution_count": 4,
   "metadata": {},
   "outputs": [
    {
     "name": "stdout",
     "output_type": "stream",
     "text": [
      "0        63.98\n",
      "1        10.40\n",
      "2         0.00\n",
      "3       137.35\n",
      "4        43.19\n",
      "         ...  \n",
      "1614     47.69\n",
      "1615     66.88\n",
      "1616     63.18\n",
      "1617     35.29\n",
      "1618    126.06\n",
      "Name: Diameter (km), Length: 1619, dtype: float64\n"
     ]
    }
   ],
   "source": [
    "d = dataset['Diameter (km)']\n",
    "print (d)"
   ]
  },
  {
   "cell_type": "markdown",
   "metadata": {},
   "source": [
    "<a class=\"anchor\" id=\"writing\"></a>\n",
    "## Writing Data to a Text File"
   ]
  },
  {
   "cell_type": "markdown",
   "metadata": {},
   "source": [
    "Let's say you've been working hard with some data set or a new model, and you want to save all your calculations in a file to share with someone else.  In many cases, you might not want them messing around with your original program.  So just save the numbers!"
   ]
  },
  {
   "cell_type": "code",
   "execution_count": 5,
   "metadata": {},
   "outputs": [],
   "source": [
    "# import packages as necessary\n",
    "import numpy as np\n",
    "import matplotlib.pyplot as plt\n",
    "\n",
    "# Generate some fake data\n",
    "x = np.arange(0, 10, 0.01)\n",
    "y = x**2 + 3*x + 7\n",
    "\n",
    "# Open a new file in \"writing\" mode.  See \"help (open)\" for other options.\n",
    "dir = 'Example Data Files/'\n",
    "file = open(dir+'newdata.txt','w')\n",
    "\n",
    "# Make a string for each line you want to write.\n",
    "# ‘\\t’ means ‘tab’\n",
    "# ‘\\n’ means ‘new line’\n",
    "# ‘str()’ means convert the quantity in parenthesis to a string\n",
    "\n",
    "# Loop over each line you want in the file\n",
    "for i in range(len(x)):\n",
    "    txt = str(x[i]) + '\\t' + str(y[i]) + '\\n'    # recommended with reservations\n",
    "    txt = str(x[i]) + '    ' + str(y[i]) + '\\n'\n",
    "    file.write(txt)\n",
    "\n",
    "# Close the file when finished\n",
    "file.close()"
   ]
  },
  {
   "cell_type": "markdown",
   "metadata": {},
   "source": [
    "Note that using a tab instead of a few spaces separating the data values is not recommended by old-school programmers.  The TAB character is read as a single character by most older programs.  If I was using a fixed-width column format, the tab would cause me to miscount the number of characters between the data when I go back to read the file later.  The tab can cause unexpected errors and ruin your day!!!"
   ]
  },
  {
   "cell_type": "markdown",
   "metadata": {},
   "source": [
    "<a class=\"anchor\" id=\"writing2\"></a>\n",
    "## Writing Data to a Spreadsheet (csv file)"
   ]
  },
  {
   "cell_type": "markdown",
   "metadata": {},
   "source": [
    "This method uses the `dictionary` variable type to write each data point in the correct column.  Make sure that your column headers are all unique!\n",
    "\n",
    "Using `mode = 'w'` opens the new file in \"write\" mode, meaning that it will create a blank file with the name you chose, and it will write the new data to that empty file.  If you need to append data to an existing spreadsheet, open it using `mode = 'a'` instead.\n",
    "\n",
    "Your new spreadsheet can be opened within Microsoft Excel or any other spreadsheet software."
   ]
  },
  {
   "cell_type": "code",
   "execution_count": 1,
   "metadata": {},
   "outputs": [],
   "source": [
    "import csv\n",
    "\n",
    "# some arbitrary data\n",
    "a = [1, 2, 3, 4, 5, 6, 7, 8, 9, 10]\n",
    "b = ['a', 'b', 'c', 'd', 'e', 'f', 'g', 'h', 'i', 'j']\n",
    "c = [5, 7, 9, 11, 13, 15, 17, 19, 21, 23]\n",
    "\n",
    "dir = 'Example Data Files/'\n",
    "\n",
    "with open(dir+'newfilename.csv', mode='w') as csv_file:\n",
    "    fieldnames = ['Column Header A', 'Column Header B', 'Column Header C']\n",
    "    writer = csv.DictWriter(csv_file, fieldnames=fieldnames)\n",
    "    writer.writeheader()\n",
    "\n",
    "    for i in range(len(a)):       \n",
    "        writer.writerow({'Column Header A': a[i], \\\n",
    "                         'Column Header B': b[i], \\\n",
    "                         'Column Header C': c[i] })"
   ]
  },
  {
   "cell_type": "code",
   "execution_count": null,
   "metadata": {},
   "outputs": [],
   "source": []
  }
 ],
 "metadata": {
  "kernelspec": {
   "display_name": "Python 3",
   "language": "python",
   "name": "python3"
  },
  "language_info": {
   "codemirror_mode": {
    "name": "ipython",
    "version": 3
   },
   "file_extension": ".py",
   "mimetype": "text/x-python",
   "name": "python",
   "nbconvert_exporter": "python",
   "pygments_lexer": "ipython3",
   "version": "3.8.5"
  }
 },
 "nbformat": 4,
 "nbformat_minor": 4
}
